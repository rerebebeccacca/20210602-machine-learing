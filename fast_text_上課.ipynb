{
  "nbformat": 4,
  "nbformat_minor": 0,
  "metadata": {
    "colab": {
      "name": "fast_text_上課.ipynb",
      "provenance": [],
      "include_colab_link": true
    },
    "kernelspec": {
      "name": "python3",
      "display_name": "Python 3"
    },
    "accelerator": "GPU"
  },
  "cells": [
    {
      "cell_type": "markdown",
      "metadata": {
        "id": "view-in-github",
        "colab_type": "text"
      },
      "source": [
        "<a href=\"https://colab.research.google.com/github/rerebebeccacca/20210602-machine-learing/blob/main/fast_text_%E4%B8%8A%E8%AA%B2.ipynb\" target=\"_parent\"><img src=\"https://colab.research.google.com/assets/colab-badge.svg\" alt=\"Open In Colab\"/></a>"
      ]
    },
    {
      "cell_type": "code",
      "metadata": {
        "id": "HkZo-KWNetI4",
        "colab": {
          "base_uri": "https://localhost:8080/"
        },
        "outputId": "1d341a1b-3e57-472b-a3a4-6e834d3fff72"
      },
      "source": [
        "# 下載fasttext千錘百鍊預訓練好的詞向量\n",
        "!wget https://dl.fbaipublicfiles.com/fasttext/vectors-crawl/cc.zh.300.bin.gz\n",
        "!gunzip cc.zh.300.bin.gz"
      ],
      "execution_count": 1,
      "outputs": [
        {
          "output_type": "stream",
          "text": [
            "--2021-07-15 06:07:35--  https://dl.fbaipublicfiles.com/fasttext/vectors-crawl/cc.zh.300.bin.gz\n",
            "Resolving dl.fbaipublicfiles.com (dl.fbaipublicfiles.com)... 172.67.9.4, 104.22.75.142, 104.22.74.142, ...\n",
            "Connecting to dl.fbaipublicfiles.com (dl.fbaipublicfiles.com)|172.67.9.4|:443... connected.\n",
            "HTTP request sent, awaiting response... 200 OK\n",
            "Length: 4478681770 (4.2G) [application/octet-stream]\n",
            "Saving to: ‘cc.zh.300.bin.gz’\n",
            "\n",
            "cc.zh.300.bin.gz    100%[===================>]   4.17G  27.1MB/s    in 84s     \n",
            "\n",
            "2021-07-15 06:08:59 (50.8 MB/s) - ‘cc.zh.300.bin.gz’ saved [4478681770/4478681770]\n",
            "\n"
          ],
          "name": "stdout"
        }
      ]
    },
    {
      "cell_type": "code",
      "metadata": {
        "id": "eVlV9SjqgWFS"
      },
      "source": [
        "from gensim.models.fasttext import FastText\n",
        "model = FastText.load_fasttext_format('cc.zh.300.bin')"
      ],
      "execution_count": 2,
      "outputs": []
    },
    {
      "cell_type": "code",
      "metadata": {
        "id": "weRojINDubAO"
      },
      "source": [
        "import warnings\n",
        "warnings.filterwarnings(\"ignore\", category=FutureWarning)"
      ],
      "execution_count": 3,
      "outputs": []
    },
    {
      "cell_type": "code",
      "metadata": {
        "id": "laoDFP6-Lr4l",
        "colab": {
          "base_uri": "https://localhost:8080/"
        },
        "outputId": "4b46886c-c699-4dab-81a1-bb6dc36fafa0"
      },
      "source": [
        "# 我們的模型裡面有多少個詞\n",
        "len(model.wv.vocab)"
      ],
      "execution_count": 4,
      "outputs": [
        {
          "output_type": "execute_result",
          "data": {
            "text/plain": [
              "2000000"
            ]
          },
          "metadata": {
            "tags": []
          },
          "execution_count": 4
        }
      ]
    },
    {
      "cell_type": "code",
      "metadata": {
        "id": "Wue-ACwcDKmh",
        "colab": {
          "base_uri": "https://localhost:8080/"
        },
        "outputId": "43611bef-1cdc-4fdf-a8ca-0e9e66f412b7"
      },
      "source": [
        "\n",
        "word = \"周杰倫\"#@param {type:\"string\"}\n",
        "print(word, \"長這樣:\")\n",
        "model.wv[word]\n"
      ],
      "execution_count": 7,
      "outputs": [
        {
          "output_type": "stream",
          "text": [
            "周杰倫 長這樣:\n"
          ],
          "name": "stdout"
        },
        {
          "output_type": "execute_result",
          "data": {
            "text/plain": [
              "array([-0.06417622, -0.07755239,  0.08411184,  0.22523576, -0.0854517 ,\n",
              "        0.05507534, -0.0719581 , -0.02633045,  0.36580244, -0.04671447,\n",
              "       -0.07201375,  0.08179424,  0.06176071, -0.03386925, -0.12199773,\n",
              "        0.01890981, -0.16104619,  0.06150802, -0.02700941, -0.09594997,\n",
              "       -0.01289377, -0.0821996 , -0.19691592, -0.05326241,  0.02934106,\n",
              "        0.03954047, -0.01107728,  0.06737816, -0.135158  ,  0.07702958,\n",
              "        0.06764923,  0.10228842,  0.11147463, -0.02219759, -0.03494326,\n",
              "        0.11606849, -0.0885908 ,  0.06172001, -0.03838678,  0.08895351,\n",
              "        0.15561594, -0.07232966,  0.14957362, -0.10955278, -0.01936073,\n",
              "        0.01400912, -0.03582732, -0.09865607, -0.1818452 , -0.06274772,\n",
              "        0.03716094, -0.01877634, -0.00147134,  0.18095887, -0.0889954 ,\n",
              "        0.07718305, -0.06104054, -0.09978639, -0.09947109,  0.00714104,\n",
              "        0.08680629,  0.0092528 ,  0.12614204, -0.20042036,  0.04458365,\n",
              "       -0.00451244, -0.12626085, -0.01436893,  0.05289337,  0.10686627,\n",
              "       -0.06992423,  0.09361816,  0.07790398,  0.00548523,  0.0835695 ,\n",
              "        0.00472235, -0.10031609, -0.1527904 ,  0.11443494,  0.0523663 ,\n",
              "        0.03499095,  0.05249704, -0.04857901,  0.19446321,  0.03532626,\n",
              "       -0.02164781, -0.0666107 , -0.22050528,  0.243305  ,  0.03187259,\n",
              "       -0.13622558, -0.1592277 , -0.13151763,  0.00144756,  0.22454423,\n",
              "        0.24816324, -0.10110629, -0.0160581 , -0.10549484,  0.01165936,\n",
              "       -0.2897647 , -0.07475366, -0.11925912,  0.08749937, -0.13267544,\n",
              "        0.06447362, -0.08532773, -0.066323  ,  0.21659209,  0.16469474,\n",
              "        0.08341683,  0.08569273,  0.16981535,  0.07919911, -0.03369264,\n",
              "       -0.02991951,  0.15230167,  0.0681526 ,  0.08027207,  0.05517146,\n",
              "        0.14733353,  0.04912957,  0.00548819, -0.06433842, -0.12001394,\n",
              "       -0.06136275,  0.0279917 ,  0.02883825,  0.0168262 ,  0.09383772,\n",
              "       -0.16466005, -0.03135021, -0.18615367, -0.15509897,  0.07176343,\n",
              "       -0.01614935, -0.14027198,  0.03710556, -0.09874155,  0.06677813,\n",
              "        0.06288499,  0.07290816, -0.06572436,  0.07817785, -0.02336262,\n",
              "       -0.00300135,  0.18266244, -0.04933443, -0.1137353 ,  0.1839977 ,\n",
              "       -0.23582523, -0.1655531 , -0.07563005, -0.11709294, -0.02000739,\n",
              "        0.02124023, -0.00196918,  0.1232266 , -0.14611301, -0.02086009,\n",
              "        0.01371465,  0.06210502,  0.13336733,  0.08764802, -0.09813412,\n",
              "       -0.01033943,  0.0460101 , -0.00600162,  0.01165328,  0.06817019,\n",
              "       -0.21763548,  0.11102769, -0.03621735,  0.21094444, -0.0393517 ,\n",
              "       -0.1485771 ,  0.05075572, -0.06216788,  0.22143479,  0.12557843,\n",
              "       -0.01552289,  0.0017191 ,  0.02119801, -0.00064375,  0.08199645,\n",
              "        0.02605249, -0.06934209,  0.06318372,  0.0523532 ,  0.31369334,\n",
              "        0.08185361, -0.06544613, -0.0205976 ,  0.14308476,  0.16360255,\n",
              "       -0.08329526,  0.03286099, -0.06976395,  0.1449056 , -0.04663375,\n",
              "        0.04790121, -0.0904481 , -0.07189166, -0.01005132, -0.0818469 ,\n",
              "        0.01375734,  0.1817226 , -0.09130295, -0.16607462, -0.02826225,\n",
              "        0.13210814, -0.16402462, -0.11828139, -0.02181705, -0.01812283,\n",
              "       -0.1305441 ,  0.13609585,  0.00477585,  0.14723909, -0.02592146,\n",
              "        0.00403216, -0.0678535 ,  0.1447762 , -0.00761856,  0.0997175 ,\n",
              "        0.01744689, -0.01141074,  0.08134282,  0.05796093, -0.24819432,\n",
              "       -0.04795733,  0.4606604 ,  0.12918235,  0.09046016,  0.01721688,\n",
              "        0.06045454, -0.0198473 ,  0.15157142, -0.05939115, -0.10956194,\n",
              "        0.00729323, -0.08840233, -0.02790275, -0.04621983,  0.06297782,\n",
              "        0.05487661, -0.13380393,  0.14466362,  0.04983006, -0.00542514,\n",
              "        0.03061581, -0.01933558,  0.0922169 , -0.03834131, -0.05149896,\n",
              "        0.00270429, -0.02178553, -0.04983791,  0.14500232,  0.17273934,\n",
              "        0.01013364, -0.01400262,  0.03450814, -0.00693401, -0.0550384 ,\n",
              "        0.09188498,  0.00894263,  0.07430709,  0.07737454,  0.00541916,\n",
              "        0.20889604, -0.03873964, -0.05089135,  0.14584209,  0.13813347,\n",
              "       -0.1670243 ,  0.00230442, -0.18413249,  0.12114768, -0.03518264,\n",
              "        0.24800411, -0.15308385, -0.04796648, -0.07352204,  0.0184295 ,\n",
              "        0.15278982, -0.0028335 ,  0.03089469, -0.12090987, -0.00195139,\n",
              "        0.03867342,  0.05494728,  0.00342496,  0.02700042,  0.03755685,\n",
              "       -0.05820559,  0.12135761,  0.00155645,  0.05219711, -0.05699483],\n",
              "      dtype=float32)"
            ]
          },
          "metadata": {
            "tags": []
          },
          "execution_count": 7
        }
      ]
    },
    {
      "cell_type": "code",
      "metadata": {
        "id": "QdjjywfL8GTq",
        "colab": {
          "base_uri": "https://localhost:8080/"
        },
        "outputId": "1f7e5895-27cc-4616-aa63-f18d886c504a"
      },
      "source": [
        "#@title 找出相似詞!!!\n",
        "\n",
        "text = '\\u5468\\u6770\\u502B' #@param {type:\"string\"}\n",
        "model.wv.most_similar(text)"
      ],
      "execution_count": 8,
      "outputs": [
        {
          "output_type": "execute_result",
          "data": {
            "text/plain": [
              "[('周杰伦', 0.6384545564651489),\n",
              " ('周傑倫', 0.6377037763595581),\n",
              " ('蕭敬騰', 0.6319587230682373),\n",
              " ('王力宏', 0.6180722713470459),\n",
              " ('周董', 0.6078039407730103),\n",
              " ('林俊傑', 0.6071425676345825),\n",
              " ('種調調', 0.591998815536499),\n",
              " ('吳建豪', 0.5834121704101562),\n",
              " ('葉惠美', 0.5814813375473022),\n",
              " ('杰倫', 0.5765817761421204)]"
            ]
          },
          "metadata": {
            "tags": []
          },
          "execution_count": 8
        }
      ]
    },
    {
      "cell_type": "code",
      "metadata": {
        "colab": {
          "base_uri": "https://localhost:8080/"
        },
        "id": "4Pj8XhJoLWDA",
        "outputId": "ca070e71-292f-4c23-cba8-d226d94e6976"
      },
      "source": [
        "\"轉蛋\" in model.wv.vocab"
      ],
      "execution_count": 9,
      "outputs": [
        {
          "output_type": "execute_result",
          "data": {
            "text/plain": [
              "True"
            ]
          },
          "metadata": {
            "tags": []
          },
          "execution_count": 9
        }
      ]
    },
    {
      "cell_type": "code",
      "metadata": {
        "id": "lJORaH4JNzDS",
        "colab": {
          "base_uri": "https://localhost:8080/"
        },
        "outputId": "aa225765-5fc2-4960-d51a-c5c713c27888"
      },
      "source": [
        "#@title 比較兩個特定詞的相似度\n",
        "\n",
        "text1 = '\\u8AB2\\u91D1' #@param {type:\"string\"}\n",
        "text2 = '\\u8F49\\u86CB' #@param {type:\"string\"}\n",
        "model.wv.similarity(text1, text2)"
      ],
      "execution_count": 11,
      "outputs": [
        {
          "output_type": "execute_result",
          "data": {
            "text/plain": [
              "0.52832663"
            ]
          },
          "metadata": {
            "tags": []
          },
          "execution_count": 11
        }
      ]
    },
    {
      "cell_type": "code",
      "metadata": {
        "id": "A3m66PlJJzgo",
        "colab": {
          "base_uri": "https://localhost:8080/"
        },
        "outputId": "f3b09f8a-d666-4206-d678-3ec27d1b12d3"
      },
      "source": [
        "#@title 找到不是同一掛的詞\n",
        "\n",
        "text1 = '\\u5468\\u6770\\u502B' #@param {type:\"string\"}\n",
        "text2 = '\\u856D\\u656C\\u9A30' #@param {type:\"string\"}\n",
        "text3 = '\\u76E7\\u5EE3\\u4EF2' #@param {type:\"string\"}\n",
        "text4 = '\\u8521\\u4F9D\\u6797' #@param {type:\"string\"}\n",
        "\n",
        "notmatch = model.wv.doesnt_match([text1, text2, text3, text4])\n",
        "print(\"不是同一掛的:\", notmatch)"
      ],
      "execution_count": null,
      "outputs": [
        {
          "output_type": "stream",
          "text": [
            "不是同一掛的: 蔡依林\n"
          ],
          "name": "stdout"
        }
      ]
    },
    {
      "cell_type": "code",
      "metadata": {
        "id": "i2kMoj47KTl1",
        "colab": {
          "base_uri": "https://localhost:8080/"
        },
        "outputId": "94256836-330e-473b-9631-50eba9e44705"
      },
      "source": [
        "#@title 給電腦做智力測驗(詞1 - 詞3 = ? - 詞2)\n",
        "\n",
        "# text1 + text2 - text3 = ?\n",
        "# text1 - text3 = ? - text2\n",
        "text1 = '\\u501A\\u5929\\u5C60\\u9F8D\\u8A18' #@param {type:\"string\"}\n",
        "text2 = '\\u674E\\u767D' #@param {type:\"string\"}\n",
        "text3 = '\\u91D1\\u5EB8' #@param {type:\"string\"}\n",
        "question = model.wv.most_similar(positive=[text1, text2], negative=[text3])\n",
        "print(text1, \"-\", text3, \"=\", \"?\", \"-\", text2)\n",
        "question"
      ],
      "execution_count": null,
      "outputs": [
        {
          "output_type": "stream",
          "text": [
            "倚天屠龍記 - 金庸 = ? - 李白\n"
          ],
          "name": "stdout"
        },
        {
          "output_type": "execute_result",
          "data": {
            "text/plain": [
              "[('赠汪伦', 0.3717178404331207),\n",
              " ('杜甫', 0.3602808117866516),\n",
              " ('崔颢', 0.33719098567962646),\n",
              " ('诗圣', 0.32668355107307434),\n",
              " ('秋浦歌', 0.3260282576084137),\n",
              " ('羌村', 0.32203420996665955),\n",
              " ('古朗月行', 0.3204810321331024),\n",
              " ('进酒', 0.3188731074333191),\n",
              " ('江阁', 0.3180239200592041),\n",
              " ('孟郊', 0.31480664014816284)]"
            ]
          },
          "metadata": {
            "tags": []
          },
          "execution_count": 23
        }
      ]
    },
    {
      "cell_type": "code",
      "metadata": {
        "colab": {
          "base_uri": "https://localhost:8080/"
        },
        "id": "TguMjAi-NZDY",
        "outputId": "abad0210-3ced-4c9f-d9ab-d85b6079c5de"
      },
      "source": [
        "text1 = '\\u5E25\\u54E5' #@param {type:\"string\"}\n",
        "text3 = '\\u7537' #@param {type:\"string\"}\n",
        "question = model.wv.most_similar(positive=[text1], negative=[text3])\n",
        "question"
      ],
      "execution_count": null,
      "outputs": [
        {
          "output_type": "execute_result",
          "data": {
            "text/plain": [
              "[('D還', 0.3439232409000397),\n",
              " ('櫃台', 0.34100887179374695),\n",
              " ('玩這個', 0.3405635356903076),\n",
              " ('自動化', 0.3366861343383789),\n",
              " ('個子', 0.3356419801712036),\n",
              " ('額頭', 0.3336927890777588),\n",
              " ('樹蔭', 0.3321351408958435),\n",
              " ('臉蛋', 0.33165156841278076),\n",
              " ('酷斃', 0.3301822245121002),\n",
              " ('社區', 0.32639551162719727)]"
            ]
          },
          "metadata": {
            "tags": []
          },
          "execution_count": 21
        }
      ]
    },
    {
      "cell_type": "code",
      "metadata": {
        "id": "gi-SM9U21jvW",
        "colab": {
          "base_uri": "https://localhost:8080/"
        },
        "outputId": "e6e17b9e-4036-4363-e6d0-7587a8832cc8"
      },
      "source": [
        "text = \"周凡剛\"\n",
        "print(\"machine-washabled有在字典裡?\", text in model.wv.vocab)\n",
        "model.wv.most_similar(text)"
      ],
      "execution_count": null,
      "outputs": [
        {
          "output_type": "stream",
          "text": [
            "machine-washabled有在字典裡? False\n"
          ],
          "name": "stdout"
        },
        {
          "output_type": "execute_result",
          "data": {
            "text/plain": [
              "[('Plurk.com', 0.7311971187591553),\n",
              " ('//www.plurk.com/ddrrelmax', 0.3652145564556122),\n",
              " ('浪唄', 0.3061898648738861),\n",
              " ('類♥♥', 0.2966107130050659),\n",
              " ('吧來撲', 0.2959628701210022),\n",
              " ('媽咪愛碎碎', 0.27673715353012085),\n",
              " ('293031', 0.2752768397331238),\n",
              " ('玩噗', 0.27147096395492554),\n",
              " ('動口不動手現', 0.26459649205207825),\n",
              " ('海用', 0.26184791326522827)]"
            ]
          },
          "metadata": {
            "tags": []
          },
          "execution_count": 25
        }
      ]
    }
  ]
}