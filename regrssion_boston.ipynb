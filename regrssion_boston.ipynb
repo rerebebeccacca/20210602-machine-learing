{
  "nbformat": 4,
  "nbformat_minor": 0,
  "metadata": {
    "colab": {
      "name": "regrssion_boston.ipynb",
      "provenance": [],
      "authorship_tag": "ABX9TyM8dGmj5wVtooVaU8d3wgiy",
      "include_colab_link": true
    },
    "kernelspec": {
      "name": "python3",
      "display_name": "Python 3"
    },
    "language_info": {
      "name": "python"
    }
  },
  "cells": [
    {
      "cell_type": "markdown",
      "metadata": {
        "id": "view-in-github",
        "colab_type": "text"
      },
      "source": [
        "<a href=\"https://colab.research.google.com/github/rerebebeccacca/20210602class/blob/main/regrssion_boston.ipynb\" target=\"_parent\"><img src=\"https://colab.research.google.com/assets/colab-badge.svg\" alt=\"Open In Colab\"/></a>"
      ]
    },
    {
      "cell_type": "markdown",
      "metadata": {
        "id": "LFvbB5ij5_1S"
      },
      "source": [
        "CRIM：人均犯罪率\n",
        "\n",
        "ZN：25,000平方英尺以上民用土地的比例\n",
        "\n",
        "INDUS：城镇非零售业商用土地比例\n",
        "\n",
        "CHAS：是否邻近查尔斯河，1是邻近，0是不邻近\n",
        "\n",
        "NOX：一氧化氮浓度（千万分之一）\n",
        "\n",
        "RM：住宅的平均房间数\n",
        "\n",
        "AGE：自住且建于1940年前的房屋比例\n",
        "\n",
        "DIS：到5个波士顿就业中心的加权距离\n",
        "\n",
        "RAD：到高速公路的便捷度指数\n",
        "\n",
        "TAX：每万元的房产税率\n",
        "\n",
        "PTRATIO：城镇学生教师比例\n",
        "\n",
        "B： 1000(Bk − 0.63)2 其中Bk是城镇中黑人比例\n",
        "\n",
        "LSTAT：低收入人群比例\n",
        "\n",
        "ans：自住房中位数价格，单位是千"
      ]
    },
    {
      "cell_type": "code",
      "metadata": {
        "colab": {
          "base_uri": "https://localhost:8080/",
          "height": 391
        },
        "id": "-a9zJQJ9yR9h",
        "outputId": "8d8e001c-7a1e-4904-8f93-1f12d1b27b70"
      },
      "source": [
        "import pandas as pd #\n",
        "from sklearn.datasets import load_boston #從sklearn.datasets讀取辨識波士頓房產\n",
        "boston = load_boston() #讀取\n",
        "# DataFrame:表格，Series:一行/一列\n",
        "df=pd.DataFrame(boston[\"data\"],\n",
        "             columns=boston[\"feature_names\"])\n",
        "df[\"ans\"] = boston[\"target\"]\n",
        "df.to_csv(\"boston.csv\",encoding=\"utf-8\",index=False) \n",
        "#存成csv的檔案（csv資料為每筆中間用逗點隔開）\n",
        "#必打encoding，utf-8是萬國編碼（不用的話會顯現預設編碼ansi)\n",
        "#index那邊不要顯示0~149\n",
        "\n",
        "df #印出jupyter表格（比較美）\n",
        "#print(df) #印出較醜的表格\n"
      ],
      "execution_count": 24,
      "outputs": [
        {
          "output_type": "execute_result",
          "data": {
            "text/html": [
              "<div>\n",
              "<style scoped>\n",
              "    .dataframe tbody tr th:only-of-type {\n",
              "        vertical-align: middle;\n",
              "    }\n",
              "\n",
              "    .dataframe tbody tr th {\n",
              "        vertical-align: top;\n",
              "    }\n",
              "\n",
              "    .dataframe thead th {\n",
              "        text-align: right;\n",
              "    }\n",
              "</style>\n",
              "<table border=\"1\" class=\"dataframe\">\n",
              "  <thead>\n",
              "    <tr style=\"text-align: right;\">\n",
              "      <th></th>\n",
              "      <th>CRIM</th>\n",
              "      <th>ZN</th>\n",
              "      <th>INDUS</th>\n",
              "      <th>CHAS</th>\n",
              "      <th>NOX</th>\n",
              "      <th>RM</th>\n",
              "      <th>AGE</th>\n",
              "      <th>DIS</th>\n",
              "      <th>RAD</th>\n",
              "      <th>TAX</th>\n",
              "      <th>PTRATIO</th>\n",
              "      <th>B</th>\n",
              "      <th>LSTAT</th>\n",
              "      <th>ans</th>\n",
              "    </tr>\n",
              "  </thead>\n",
              "  <tbody>\n",
              "    <tr>\n",
              "      <th>0</th>\n",
              "      <td>0.00632</td>\n",
              "      <td>18.0</td>\n",
              "      <td>2.31</td>\n",
              "      <td>0.0</td>\n",
              "      <td>0.538</td>\n",
              "      <td>6.575</td>\n",
              "      <td>65.2</td>\n",
              "      <td>4.0900</td>\n",
              "      <td>1.0</td>\n",
              "      <td>296.0</td>\n",
              "      <td>15.3</td>\n",
              "      <td>396.90</td>\n",
              "      <td>4.98</td>\n",
              "      <td>24.0</td>\n",
              "    </tr>\n",
              "    <tr>\n",
              "      <th>1</th>\n",
              "      <td>0.02731</td>\n",
              "      <td>0.0</td>\n",
              "      <td>7.07</td>\n",
              "      <td>0.0</td>\n",
              "      <td>0.469</td>\n",
              "      <td>6.421</td>\n",
              "      <td>78.9</td>\n",
              "      <td>4.9671</td>\n",
              "      <td>2.0</td>\n",
              "      <td>242.0</td>\n",
              "      <td>17.8</td>\n",
              "      <td>396.90</td>\n",
              "      <td>9.14</td>\n",
              "      <td>21.6</td>\n",
              "    </tr>\n",
              "    <tr>\n",
              "      <th>2</th>\n",
              "      <td>0.02729</td>\n",
              "      <td>0.0</td>\n",
              "      <td>7.07</td>\n",
              "      <td>0.0</td>\n",
              "      <td>0.469</td>\n",
              "      <td>7.185</td>\n",
              "      <td>61.1</td>\n",
              "      <td>4.9671</td>\n",
              "      <td>2.0</td>\n",
              "      <td>242.0</td>\n",
              "      <td>17.8</td>\n",
              "      <td>392.83</td>\n",
              "      <td>4.03</td>\n",
              "      <td>34.7</td>\n",
              "    </tr>\n",
              "    <tr>\n",
              "      <th>3</th>\n",
              "      <td>0.03237</td>\n",
              "      <td>0.0</td>\n",
              "      <td>2.18</td>\n",
              "      <td>0.0</td>\n",
              "      <td>0.458</td>\n",
              "      <td>6.998</td>\n",
              "      <td>45.8</td>\n",
              "      <td>6.0622</td>\n",
              "      <td>3.0</td>\n",
              "      <td>222.0</td>\n",
              "      <td>18.7</td>\n",
              "      <td>394.63</td>\n",
              "      <td>2.94</td>\n",
              "      <td>33.4</td>\n",
              "    </tr>\n",
              "    <tr>\n",
              "      <th>4</th>\n",
              "      <td>0.06905</td>\n",
              "      <td>0.0</td>\n",
              "      <td>2.18</td>\n",
              "      <td>0.0</td>\n",
              "      <td>0.458</td>\n",
              "      <td>7.147</td>\n",
              "      <td>54.2</td>\n",
              "      <td>6.0622</td>\n",
              "      <td>3.0</td>\n",
              "      <td>222.0</td>\n",
              "      <td>18.7</td>\n",
              "      <td>396.90</td>\n",
              "      <td>5.33</td>\n",
              "      <td>36.2</td>\n",
              "    </tr>\n",
              "    <tr>\n",
              "      <th>...</th>\n",
              "      <td>...</td>\n",
              "      <td>...</td>\n",
              "      <td>...</td>\n",
              "      <td>...</td>\n",
              "      <td>...</td>\n",
              "      <td>...</td>\n",
              "      <td>...</td>\n",
              "      <td>...</td>\n",
              "      <td>...</td>\n",
              "      <td>...</td>\n",
              "      <td>...</td>\n",
              "      <td>...</td>\n",
              "      <td>...</td>\n",
              "      <td>...</td>\n",
              "    </tr>\n",
              "    <tr>\n",
              "      <th>501</th>\n",
              "      <td>0.06263</td>\n",
              "      <td>0.0</td>\n",
              "      <td>11.93</td>\n",
              "      <td>0.0</td>\n",
              "      <td>0.573</td>\n",
              "      <td>6.593</td>\n",
              "      <td>69.1</td>\n",
              "      <td>2.4786</td>\n",
              "      <td>1.0</td>\n",
              "      <td>273.0</td>\n",
              "      <td>21.0</td>\n",
              "      <td>391.99</td>\n",
              "      <td>9.67</td>\n",
              "      <td>22.4</td>\n",
              "    </tr>\n",
              "    <tr>\n",
              "      <th>502</th>\n",
              "      <td>0.04527</td>\n",
              "      <td>0.0</td>\n",
              "      <td>11.93</td>\n",
              "      <td>0.0</td>\n",
              "      <td>0.573</td>\n",
              "      <td>6.120</td>\n",
              "      <td>76.7</td>\n",
              "      <td>2.2875</td>\n",
              "      <td>1.0</td>\n",
              "      <td>273.0</td>\n",
              "      <td>21.0</td>\n",
              "      <td>396.90</td>\n",
              "      <td>9.08</td>\n",
              "      <td>20.6</td>\n",
              "    </tr>\n",
              "    <tr>\n",
              "      <th>503</th>\n",
              "      <td>0.06076</td>\n",
              "      <td>0.0</td>\n",
              "      <td>11.93</td>\n",
              "      <td>0.0</td>\n",
              "      <td>0.573</td>\n",
              "      <td>6.976</td>\n",
              "      <td>91.0</td>\n",
              "      <td>2.1675</td>\n",
              "      <td>1.0</td>\n",
              "      <td>273.0</td>\n",
              "      <td>21.0</td>\n",
              "      <td>396.90</td>\n",
              "      <td>5.64</td>\n",
              "      <td>23.9</td>\n",
              "    </tr>\n",
              "    <tr>\n",
              "      <th>504</th>\n",
              "      <td>0.10959</td>\n",
              "      <td>0.0</td>\n",
              "      <td>11.93</td>\n",
              "      <td>0.0</td>\n",
              "      <td>0.573</td>\n",
              "      <td>6.794</td>\n",
              "      <td>89.3</td>\n",
              "      <td>2.3889</td>\n",
              "      <td>1.0</td>\n",
              "      <td>273.0</td>\n",
              "      <td>21.0</td>\n",
              "      <td>393.45</td>\n",
              "      <td>6.48</td>\n",
              "      <td>22.0</td>\n",
              "    </tr>\n",
              "    <tr>\n",
              "      <th>505</th>\n",
              "      <td>0.04741</td>\n",
              "      <td>0.0</td>\n",
              "      <td>11.93</td>\n",
              "      <td>0.0</td>\n",
              "      <td>0.573</td>\n",
              "      <td>6.030</td>\n",
              "      <td>80.8</td>\n",
              "      <td>2.5050</td>\n",
              "      <td>1.0</td>\n",
              "      <td>273.0</td>\n",
              "      <td>21.0</td>\n",
              "      <td>396.90</td>\n",
              "      <td>7.88</td>\n",
              "      <td>11.9</td>\n",
              "    </tr>\n",
              "  </tbody>\n",
              "</table>\n",
              "<p>506 rows × 14 columns</p>\n",
              "</div>"
            ],
            "text/plain": [
              "        CRIM    ZN  INDUS  CHAS    NOX  ...    TAX  PTRATIO       B  LSTAT   ans\n",
              "0    0.00632  18.0   2.31   0.0  0.538  ...  296.0     15.3  396.90   4.98  24.0\n",
              "1    0.02731   0.0   7.07   0.0  0.469  ...  242.0     17.8  396.90   9.14  21.6\n",
              "2    0.02729   0.0   7.07   0.0  0.469  ...  242.0     17.8  392.83   4.03  34.7\n",
              "3    0.03237   0.0   2.18   0.0  0.458  ...  222.0     18.7  394.63   2.94  33.4\n",
              "4    0.06905   0.0   2.18   0.0  0.458  ...  222.0     18.7  396.90   5.33  36.2\n",
              "..       ...   ...    ...   ...    ...  ...    ...      ...     ...    ...   ...\n",
              "501  0.06263   0.0  11.93   0.0  0.573  ...  273.0     21.0  391.99   9.67  22.4\n",
              "502  0.04527   0.0  11.93   0.0  0.573  ...  273.0     21.0  396.90   9.08  20.6\n",
              "503  0.06076   0.0  11.93   0.0  0.573  ...  273.0     21.0  396.90   5.64  23.9\n",
              "504  0.10959   0.0  11.93   0.0  0.573  ...  273.0     21.0  393.45   6.48  22.0\n",
              "505  0.04741   0.0  11.93   0.0  0.573  ...  273.0     21.0  396.90   7.88  11.9\n",
              "\n",
              "[506 rows x 14 columns]"
            ]
          },
          "metadata": {
            "tags": []
          },
          "execution_count": 24
        }
      ]
    },
    {
      "cell_type": "code",
      "metadata": {
        "id": "_GhCSQGrPuEu"
      },
      "source": [
        "# df_new = df.drop([\"ans\"],axis=1) #axis是雙向的"
      ],
      "execution_count": 25,
      "outputs": []
    },
    {
      "cell_type": "code",
      "metadata": {
        "colab": {
          "base_uri": "https://localhost:8080/"
        },
        "id": "L4h2jnodOqZ8",
        "outputId": "9abcb6ff-56d4-416b-8176-d950cdc89dac"
      },
      "source": [
        "# sklearn 前：pandas.DataFrame\n",
        "# sklearn 後：np.array(多維的東西，一般二維list不用這個) \n",
        "import numpy as np\n",
        "from sklearn.model_selection import train_test_split #切出一部分的參數去訓練\n",
        "x,y= np.array(df.drop([\"ans\"],axis=1)), np.array(df[\"ans\"])\n",
        "# train_test_split([1,2,3,4],\n",
        "#                  [5,6,7,8],\n",
        "#                  test_size=0.25) #test_size把資料分成75%學習25%測試\n",
        "\n",
        "#分成90% x,10% x, 90% y,10% y\n",
        "x_train, x_test, y_train, y_test = train_test_split(x,\n",
        "                                                    y,\n",
        "                                                    test_size=0.1)\n",
        "print(x_train.shape)\n",
        "print(x_test.shape)\n",
        "print(y_train.shape)\n",
        "print(y_test.shape)"
      ],
      "execution_count": 26,
      "outputs": [
        {
          "output_type": "stream",
          "text": [
            "(455, 13)\n",
            "(51, 13)\n",
            "(455,)\n",
            "(51,)\n"
          ],
          "name": "stdout"
        }
      ]
    },
    {
      "cell_type": "code",
      "metadata": {
        "colab": {
          "base_uri": "https://localhost:8080/"
        },
        "id": "N6Fdo9Z1U_Ym",
        "outputId": "851b660d-108f-4dd6-8051-1c9b0ce25f97"
      },
      "source": [
        "#決策樹\n",
        "from sklearn.tree import DecisionTreeRegressor\n",
        "reg = DecisionTreeRegressor(max_depth=6) #任何演算法訓練限制最大深度就好（不要學太好）\n",
        "reg.fit(x_train, y_train)\n"
      ],
      "execution_count": 27,
      "outputs": [
        {
          "output_type": "execute_result",
          "data": {
            "text/plain": [
              "DecisionTreeRegressor(ccp_alpha=0.0, criterion='mse', max_depth=6,\n",
              "                      max_features=None, max_leaf_nodes=None,\n",
              "                      min_impurity_decrease=0.0, min_impurity_split=None,\n",
              "                      min_samples_leaf=1, min_samples_split=2,\n",
              "                      min_weight_fraction_leaf=0.0, presort='deprecated',\n",
              "                      random_state=None, splitter='best')"
            ]
          },
          "metadata": {
            "tags": []
          },
          "execution_count": 27
        }
      ]
    },
    {
      "cell_type": "code",
      "metadata": {
        "colab": {
          "base_uri": "https://localhost:8080/",
          "height": 1000
        },
        "id": "phIPepc9ZnhY",
        "outputId": "f0d3a0e9-2136-43a1-9f0c-1c24fa2cdc7a"
      },
      "source": [
        "import matplotlib.pyplot as plt\n",
        "from sklearn.tree import plot_tree\n",
        "plt.figure(figsize=(10,10))\n",
        "plot_tree(reg,\n",
        "          feature_names=boston[\"feature_names\"],\n",
        "          filled=True)"
      ],
      "execution_count": 28,
      "outputs": [
        {
          "output_type": "execute_result",
          "data": {
            "text/plain": [
              "[Text(258.2635135135135, 504.7714285714286, 'LSTAT <= 9.725\\nmse = 83.684\\nsamples = 455\\nvalue = 22.388'),\n",
              " Text(121.59121621621621, 427.11428571428576, 'RM <= 6.941\\nmse = 75.514\\nsamples = 192\\nvalue = 29.589'),\n",
              " Text(52.78378378378378, 349.4571428571429, 'DIS <= 1.485\\nmse = 33.717\\nsamples = 130\\nvalue = 25.555'),\n",
              " Text(45.24324324324324, 271.8, 'mse = 0.0\\nsamples = 4\\nvalue = 50.0'),\n",
              " Text(60.32432432432432, 271.8, 'RM <= 6.543\\nmse = 15.216\\nsamples = 126\\nvalue = 24.779'),\n",
              " Text(30.16216216216216, 194.14285714285717, 'TAX <= 222.5\\nmse = 8.967\\nsamples = 80\\nvalue = 22.994'),\n",
              " Text(15.08108108108108, 116.48571428571432, 'PTRATIO <= 18.25\\nmse = 14.062\\nsamples = 2\\nvalue = 32.45'),\n",
              " Text(7.54054054054054, 38.82857142857142, 'mse = 0.0\\nsamples = 1\\nvalue = 36.2'),\n",
              " Text(22.62162162162162, 38.82857142857142, 'mse = -0.0\\nsamples = 1\\nvalue = 28.7'),\n",
              " Text(45.24324324324324, 116.48571428571432, 'RM <= 6.053\\nmse = 6.485\\nsamples = 78\\nvalue = 22.751'),\n",
              " Text(37.7027027027027, 38.82857142857142, 'mse = 8.103\\nsamples = 20\\nvalue = 20.49'),\n",
              " Text(52.78378378378378, 38.82857142857142, 'mse = 3.555\\nsamples = 58\\nvalue = 23.531'),\n",
              " Text(90.48648648648648, 194.14285714285717, 'TAX <= 269.0\\nmse = 10.895\\nsamples = 46\\nvalue = 27.885'),\n",
              " Text(75.4054054054054, 116.48571428571432, 'PTRATIO <= 17.85\\nmse = 4.792\\nsamples = 15\\nvalue = 30.62'),\n",
              " Text(67.86486486486487, 38.82857142857142, 'mse = 2.699\\nsamples = 10\\nvalue = 31.71'),\n",
              " Text(82.94594594594594, 38.82857142857142, 'mse = 1.85\\nsamples = 5\\nvalue = 28.44'),\n",
              " Text(105.56756756756756, 116.48571428571432, 'NOX <= 0.526\\nmse = 8.476\\nsamples = 31\\nvalue = 26.561'),\n",
              " Text(98.02702702702703, 38.82857142857142, 'mse = 7.051\\nsamples = 24\\nvalue = 27.333'),\n",
              " Text(113.1081081081081, 38.82857142857142, 'mse = 4.31\\nsamples = 7\\nvalue = 23.914'),\n",
              " Text(190.39864864864865, 349.4571428571429, 'RM <= 7.435\\nmse = 57.505\\nsamples = 62\\nvalue = 38.047'),\n",
              " Text(147.04054054054055, 271.8, 'DIS <= 1.886\\nmse = 22.203\\nsamples = 37\\nvalue = 33.681'),\n",
              " Text(128.1891891891892, 194.14285714285717, 'INDUS <= 18.84\\nmse = 18.923\\nsamples = 2\\nvalue = 45.65'),\n",
              " Text(120.64864864864865, 116.48571428571432, 'mse = 0.0\\nsamples = 1\\nvalue = 50.0'),\n",
              " Text(135.72972972972974, 116.48571428571432, 'mse = -0.0\\nsamples = 1\\nvalue = 41.3'),\n",
              " Text(165.89189189189187, 194.14285714285717, 'PTRATIO <= 19.7\\nmse = 13.736\\nsamples = 35\\nvalue = 32.997'),\n",
              " Text(150.8108108108108, 116.48571428571432, 'TAX <= 267.0\\nmse = 9.855\\nsamples = 33\\nvalue = 33.515'),\n",
              " Text(143.27027027027026, 38.82857142857142, 'mse = 2.247\\nsamples = 15\\nvalue = 35.4'),\n",
              " Text(158.35135135135135, 38.82857142857142, 'mse = 10.767\\nsamples = 18\\nvalue = 31.944'),\n",
              " Text(180.97297297297297, 116.48571428571432, 'RAD <= 12.5\\nmse = 0.302\\nsamples = 2\\nvalue = 24.45'),\n",
              " Text(173.43243243243242, 38.82857142857142, 'mse = 0.0\\nsamples = 1\\nvalue = 23.9'),\n",
              " Text(188.51351351351352, 38.82857142857142, 'mse = 0.0\\nsamples = 1\\nvalue = 25.0'),\n",
              " Text(233.75675675675674, 271.8, 'PTRATIO <= 19.65\\nmse = 39.798\\nsamples = 25\\nvalue = 44.508'),\n",
              " Text(226.2162162162162, 194.14285714285717, 'RAD <= 3.5\\nmse = 19.272\\nsamples = 24\\nvalue = 45.45'),\n",
              " Text(211.13513513513513, 116.48571428571432, 'AGE <= 44.35\\nmse = 9.682\\nsamples = 6\\nvalue = 40.633'),\n",
              " Text(203.59459459459458, 38.82857142857142, 'mse = 0.576\\nsamples = 3\\nvalue = 43.367'),\n",
              " Text(218.67567567567568, 38.82857142857142, 'mse = 3.847\\nsamples = 3\\nvalue = 37.9'),\n",
              " Text(241.2972972972973, 116.48571428571432, 'CRIM <= 0.559\\nmse = 12.157\\nsamples = 18\\nvalue = 47.056'),\n",
              " Text(233.75675675675674, 38.82857142857142, 'mse = 12.216\\nsamples = 13\\nvalue = 45.923'),\n",
              " Text(248.83783783783784, 38.82857142857142, 'mse = 0.0\\nsamples = 5\\nvalue = 50.0'),\n",
              " Text(241.2972972972973, 194.14285714285717, 'mse = -0.0\\nsamples = 1\\nvalue = 21.9'),\n",
              " Text(394.9358108108108, 427.11428571428576, 'LSTAT <= 19.23\\nmse = 24.15\\nsamples = 263\\nvalue = 17.13'),\n",
              " Text(316.7027027027027, 349.4571428571429, 'LSTAT <= 14.4\\nmse = 13.652\\nsamples = 184\\nvalue = 19.127'),\n",
              " Text(286.5405405405405, 271.8, 'RM <= 7.32\\nmse = 8.603\\nsamples = 100\\nvalue = 20.854'),\n",
              " Text(279.0, 194.14285714285717, 'CRIM <= 16.566\\nmse = 7.64\\nsamples = 99\\nvalue = 20.752'),\n",
              " Text(271.4594594594595, 116.48571428571432, 'RM <= 6.797\\nmse = 7.101\\nsamples = 97\\nvalue = 20.87'),\n",
              " Text(263.9189189189189, 38.82857142857142, 'mse = 5.967\\nsamples = 94\\nvalue = 20.693'),\n",
              " Text(279.0, 38.82857142857142, 'mse = 10.709\\nsamples = 3\\nvalue = 26.433'),\n",
              " Text(286.5405405405405, 116.48571428571432, 'mse = 0.0\\nsamples = 2\\nvalue = 15.0'),\n",
              " Text(294.0810810810811, 194.14285714285717, 'mse = -0.0\\nsamples = 1\\nvalue = 31.0'),\n",
              " Text(346.86486486486484, 271.8, 'CRIM <= 0.615\\nmse = 11.887\\nsamples = 84\\nvalue = 17.071'),\n",
              " Text(316.7027027027027, 194.14285714285717, 'PTRATIO <= 19.45\\nmse = 7.01\\nsamples = 34\\nvalue = 19.565'),\n",
              " Text(301.6216216216216, 116.48571428571432, 'AGE <= 95.95\\nmse = 5.976\\nsamples = 23\\nvalue = 20.513'),\n",
              " Text(294.0810810810811, 38.82857142857142, 'mse = 4.186\\nsamples = 22\\nvalue = 20.214'),\n",
              " Text(309.16216216216213, 38.82857142857142, 'mse = -0.0\\nsamples = 1\\nvalue = 27.1'),\n",
              " Text(331.78378378378375, 116.48571428571432, 'PTRATIO <= 20.5\\nmse = 3.36\\nsamples = 11\\nvalue = 17.582'),\n",
              " Text(324.2432432432432, 38.82857142857142, 'mse = 0.996\\nsamples = 3\\nvalue = 14.933'),\n",
              " Text(339.3243243243243, 38.82857142857142, 'mse = 0.629\\nsamples = 8\\nvalue = 18.575'),\n",
              " Text(377.02702702702703, 194.14285714285717, 'B <= 134.95\\nmse = 8.101\\nsamples = 50\\nvalue = 15.376'),\n",
              " Text(361.94594594594594, 116.48571428571432, 'CRIM <= 10.88\\nmse = 5.873\\nsamples = 13\\nvalue = 13.169'),\n",
              " Text(354.4054054054054, 38.82857142857142, 'mse = 3.972\\nsamples = 9\\nvalue = 14.311'),\n",
              " Text(369.48648648648646, 38.82857142857142, 'mse = 0.615\\nsamples = 4\\nvalue = 10.6'),\n",
              " Text(392.1081081081081, 116.48571428571432, 'AGE <= 88.6\\nmse = 6.572\\nsamples = 37\\nvalue = 16.151'),\n",
              " Text(384.56756756756755, 38.82857142857142, 'mse = 2.436\\nsamples = 7\\nvalue = 19.871'),\n",
              " Text(399.64864864864865, 38.82857142857142, 'mse = 3.555\\nsamples = 30\\nvalue = 15.283'),\n",
              " Text(473.1689189189189, 349.4571428571429, 'NOX <= 0.603\\nmse = 17.685\\nsamples = 79\\nvalue = 12.48'),\n",
              " Text(444.8918918918919, 271.8, 'RM <= 6.843\\nmse = 12.734\\nsamples = 22\\nvalue = 16.895'),\n",
              " Text(437.35135135135135, 194.14285714285717, 'INDUS <= 8.915\\nmse = 7.73\\nsamples = 21\\nvalue = 16.39'),\n",
              " Text(422.27027027027026, 116.48571428571432, 'B <= 381.6\\nmse = 1.269\\nsamples = 8\\nvalue = 14.175'),\n",
              " Text(414.72972972972974, 38.82857142857142, 'mse = 0.123\\nsamples = 4\\nvalue = 13.25'),\n",
              " Text(429.8108108108108, 38.82857142857142, 'mse = 0.705\\nsamples = 4\\nvalue = 15.1'),\n",
              " Text(452.4324324324324, 116.48571428571432, 'DIS <= 2.373\\nmse = 6.827\\nsamples = 13\\nvalue = 17.754'),\n",
              " Text(444.8918918918919, 38.82857142857142, 'mse = 2.392\\nsamples = 8\\nvalue = 16.125'),\n",
              " Text(459.97297297297297, 38.82857142857142, 'mse = 2.886\\nsamples = 5\\nvalue = 20.36'),\n",
              " Text(452.4324324324324, 194.14285714285717, 'mse = 0.0\\nsamples = 1\\nvalue = 27.5'),\n",
              " Text(501.44594594594594, 271.8, 'TAX <= 551.5\\nmse = 9.165\\nsamples = 57\\nvalue = 10.775'),\n",
              " Text(475.05405405405406, 194.14285714285717, 'RM <= 4.914\\nmse = 2.488\\nsamples = 9\\nvalue = 14.522'),\n",
              " Text(467.5135135135135, 116.48571428571432, 'mse = 0.0\\nsamples = 1\\nvalue = 11.8'),\n",
              " Text(482.5945945945946, 116.48571428571432, 'RM <= 5.727\\nmse = 1.757\\nsamples = 8\\nvalue = 14.862'),\n",
              " Text(475.05405405405406, 38.82857142857142, 'mse = 1.462\\nsamples = 5\\nvalue = 15.56'),\n",
              " Text(490.1351351351351, 38.82857142857142, 'mse = 0.087\\nsamples = 3\\nvalue = 13.7'),\n",
              " Text(527.8378378378378, 194.14285714285717, 'CRIM <= 24.598\\nmse = 7.291\\nsamples = 48\\nvalue = 10.073'),\n",
              " Text(512.7567567567568, 116.48571428571432, 'DIS <= 2.005\\nmse = 6.09\\nsamples = 41\\nvalue = 10.617'),\n",
              " Text(505.2162162162162, 38.82857142857142, 'mse = 4.934\\nsamples = 36\\nvalue = 10.178'),\n",
              " Text(520.2972972972973, 38.82857142857142, 'mse = 3.018\\nsamples = 5\\nvalue = 13.78'),\n",
              " Text(542.918918918919, 116.48571428571432, 'DIS <= 1.598\\nmse = 2.436\\nsamples = 7\\nvalue = 6.886'),\n",
              " Text(535.3783783783783, 38.82857142857142, 'mse = 0.08\\nsamples = 3\\nvalue = 5.2'),\n",
              " Text(550.4594594594595, 38.82857142857142, 'mse = 0.473\\nsamples = 4\\nvalue = 8.15')]"
            ]
          },
          "metadata": {
            "tags": []
          },
          "execution_count": 28
        },
        {
          "output_type": "display_data",
          "data": {
            "image/png": "[encoded data removed]",
            "text/plain": [
              "<Figure size 720x720 with 1 Axes>"
            ]
          },
          "metadata": {
            "tags": [],
            "needs_background": "light"
          }
        }
      ]
    },
    {
      "cell_type": "code",
      "metadata": {
        "colab": {
          "base_uri": "https://localhost:8080/"
        },
        "id": "judiiYN4lxrx",
        "outputId": "757b4d8e-9c38-4d8a-95ae-52980bcfd34d"
      },
      "source": [
        "from sklearn.metrics import r2_score\n",
        "#預測那格的平均值\n",
        "pre = reg.predict(x_test) \n",
        "r2_score(y_test,pre)#做驗證\n"
      ],
      "execution_count": 29,
      "outputs": [
        {
          "output_type": "execute_result",
          "data": {
            "text/plain": [
              "0.8460688636604046"
            ]
          },
          "metadata": {
            "tags": []
          },
          "execution_count": 29
        }
      ]
    }
  ]
}