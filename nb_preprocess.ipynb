{
  "nbformat": 4,
  "nbformat_minor": 0,
  "metadata": {
    "colab": {
      "name": "nb_preprocess.ipynb",
      "provenance": [],
      "authorship_tag": "ABX9TyNA2oMI9nq75Cn3XXwIs4V+",
      "include_colab_link": true
    },
    "kernelspec": {
      "name": "python3",
      "display_name": "Python 3"
    },
    "language_info": {
      "name": "python"
    }
  },
  "cells": [
    {
      "cell_type": "markdown",
      "metadata": {
        "id": "view-in-github",
        "colab_type": "text"
      },
      "source": [
        "<a href=\"https://colab.research.google.com/github/rerebebeccacca/20210602-machine-learing/blob/main/nb_preprocess.ipynb\" target=\"_parent\"><img src=\"https://colab.research.google.com/assets/colab-badge.svg\" alt=\"Open In Colab\"/></a>"
      ]
    },
    {
      "cell_type": "code",
      "metadata": {
        "id": "zpB2q5b489W7"
      },
      "source": [
        "'''\n",
        "簡繁混雜時的處理-->安裝簡繁轉換 \n",
        "去opencc網站看code\n",
        "'''\n",
        "!pip install opencc-python-reimplemented"
      ],
      "execution_count": null,
      "outputs": []
    },
    {
      "cell_type": "code",
      "metadata": {
        "id": "a3FedUOA_yVU"
      },
      "source": [
        "to_convert = '''不太确定你的浏览方式，我只能说已知的：WP有繁简转换机制，所有页面的源码都是一样的（繁简书写混集），然后匿名用户会根据浏览器的语言偏好设置挑选最接近的，如果是登陆用户的话，则可以自行到用户设置调整。如果什么都没有调整过（匿名没zh系的语言偏好设置，登陆的没改动过用户设置），默认是zh-cn（大陆简体）如果是匿名没登陆的话，有可能是浏览器语言偏好没设置对，是zh，对应的就是源码模式，没繁简转换处理的；或者你看的就是页面就是源码模式，地址如<zh.wp.org(省略)>/zh/<页面名>。以上适用于PC网页版；移动网页版确认，使用PC网页版同样的机制；移动客户端版是独立开发，对于多书写体系支持好像不太好，但暂时没发现类似问题。\n",
        "\n",
        "作者：陈肖恩\n",
        "著作权归作者所有。商业转载请联系作者获得授权，非商业转载请注明出处。'''"
      ],
      "execution_count": 3,
      "outputs": []
    },
    {
      "cell_type": "code",
      "metadata": {
        "colab": {
          "base_uri": "https://localhost:8080/",
          "height": 165
        },
        "id": "kE1xxD87-5l4",
        "outputId": "ab89a883-d543-408b-b5de-7332f770a223"
      },
      "source": [
        "from opencc import OpenCC\n",
        "cc = OpenCC('s2tw')  \n",
        "#to_convert = '开放中文转换'\n",
        "converted = cc.convert(to_convert)\n",
        "converted#執行轉換指令"
      ],
      "execution_count": 5,
      "outputs": [
        {
          "output_type": "execute_result",
          "data": {
            "application/vnd.google.colaboratory.intrinsic+json": {
              "type": "string"
            },
            "text/plain": [
              "'不太確定你的瀏覽方式，我只能說已知的：WP有繁簡轉換機制，所有頁面的源碼都是一樣的（繁簡書寫混集），然後匿名用戶會根據瀏覽器的語言偏好設置挑選最接近的，如果是登陸用戶的話，則可以自行到用戶設置調整。如果什麼都沒有調整過（匿名沒zh系的語言偏好設置，登陸的沒改動過用戶設置），默認是zh-cn（大陸簡體）如果是匿名沒登陸的話，有可能是瀏覽器語言偏好沒設置對，是zh，對應的就是源碼模式，沒繁簡轉換處理的；或者你看的就是頁面就是源碼模式，地址如<zh.wp.org(省略)>/zh/<頁面名>。以上適用於PC網頁版；移動網頁版確認，使用PC網頁版同樣的機制；移動客戶端版是獨立開發，對於多書寫體系支持好像不太好，但暫時沒發現類似問題。\\n\\n作者：陳肖恩\\n鏈接：https://www.zhihu.com/question/30550891/answer/48502337\\n來源：知乎\\n著作權歸作者所有。商業轉載請聯繫作者獲得授權，非商業轉載請註明出處。'"
            ]
          },
          "metadata": {
            "tags": []
          },
          "execution_count": 5
        }
      ]
    }
  ]
}