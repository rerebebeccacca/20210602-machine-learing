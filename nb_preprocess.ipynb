{
  "nbformat": 4,
  "nbformat_minor": 0,
  "metadata": {
    "colab": {
      "name": "nb_preprocess.ipynb",
      "provenance": [],
      "authorship_tag": "ABX9TyO+FCU7Dof2c1Y7iIrwSjnP",
      "include_colab_link": true
    },
    "kernelspec": {
      "name": "python3",
      "display_name": "Python 3"
    },
    "language_info": {
      "name": "python"
    }
  },
  "cells": [
    {
      "cell_type": "markdown",
      "metadata": {
        "id": "view-in-github",
        "colab_type": "text"
      },
      "source": [
        "<a href=\"https://colab.research.google.com/github/rerebebeccacca/20210602-machine-learing/blob/main/nb_preprocess.ipynb\" target=\"_parent\"><img src=\"https://colab.research.google.com/assets/colab-badge.svg\" alt=\"Open In Colab\"/></a>"
      ]
    },
    {
      "cell_type": "code",
      "metadata": {
        "colab": {
          "base_uri": "https://localhost:8080/"
        },
        "id": "zpB2q5b489W7",
        "outputId": "15c352cd-d215-4ef3-f1f1-f4ccc73c2bc5"
      },
      "source": [
        "'''\n",
        "簡繁混雜時的處理-->安裝簡繁轉換 \n",
        "去opencc網站看code\n",
        "'''\n",
        "!pip install opencc-python-reimplemented"
      ],
      "execution_count": 8,
      "outputs": [
        {
          "output_type": "stream",
          "text": [
            "Collecting opencc-python-reimplemented\n",
            "\u001b[?25l  Downloading https://files.pythonhosted.org/packages/04/aa/02c5ffc87e2bf1da1f476d35aa4de69cad2cfc3140e37114755c454d1231/opencc-python-reimplemented-0.1.6.tar.gz (484kB)\n",
            "\r\u001b[K     |▊                               | 10kB 13.7MB/s eta 0:00:01\r\u001b[K     |█▍                              | 20kB 13.5MB/s eta 0:00:01\r\u001b[K     |██                              | 30kB 9.7MB/s eta 0:00:01\r\u001b[K     |██▊                             | 40kB 8.4MB/s eta 0:00:01\r\u001b[K     |███▍                            | 51kB 4.2MB/s eta 0:00:01\r\u001b[K     |████                            | 61kB 4.9MB/s eta 0:00:01\r\u001b[K     |████▊                           | 71kB 5.1MB/s eta 0:00:01\r\u001b[K     |█████▍                          | 81kB 5.5MB/s eta 0:00:01\r\u001b[K     |██████                          | 92kB 5.6MB/s eta 0:00:01\r\u001b[K     |██████▊                         | 102kB 4.3MB/s eta 0:00:01\r\u001b[K     |███████▍                        | 112kB 4.3MB/s eta 0:00:01\r\u001b[K     |████████▏                       | 122kB 4.3MB/s eta 0:00:01\r\u001b[K     |████████▉                       | 133kB 4.3MB/s eta 0:00:01\r\u001b[K     |█████████▌                      | 143kB 4.3MB/s eta 0:00:01\r\u001b[K     |██████████▏                     | 153kB 4.3MB/s eta 0:00:01\r\u001b[K     |██████████▉                     | 163kB 4.3MB/s eta 0:00:01\r\u001b[K     |███████████▌                    | 174kB 4.3MB/s eta 0:00:01\r\u001b[K     |████████████▏                   | 184kB 4.3MB/s eta 0:00:01\r\u001b[K     |████████████▉                   | 194kB 4.3MB/s eta 0:00:01\r\u001b[K     |█████████████▌                  | 204kB 4.3MB/s eta 0:00:01\r\u001b[K     |██████████████▏                 | 215kB 4.3MB/s eta 0:00:01\r\u001b[K     |██████████████▉                 | 225kB 4.3MB/s eta 0:00:01\r\u001b[K     |███████████████▌                | 235kB 4.3MB/s eta 0:00:01\r\u001b[K     |████████████████▎               | 245kB 4.3MB/s eta 0:00:01\r\u001b[K     |█████████████████               | 256kB 4.3MB/s eta 0:00:01\r\u001b[K     |█████████████████▋              | 266kB 4.3MB/s eta 0:00:01\r\u001b[K     |██████████████████▎             | 276kB 4.3MB/s eta 0:00:01\r\u001b[K     |███████████████████             | 286kB 4.3MB/s eta 0:00:01\r\u001b[K     |███████████████████▋            | 296kB 4.3MB/s eta 0:00:01\r\u001b[K     |████████████████████▎           | 307kB 4.3MB/s eta 0:00:01\r\u001b[K     |█████████████████████           | 317kB 4.3MB/s eta 0:00:01\r\u001b[K     |█████████████████████▋          | 327kB 4.3MB/s eta 0:00:01\r\u001b[K     |██████████████████████▎         | 337kB 4.3MB/s eta 0:00:01\r\u001b[K     |███████████████████████         | 348kB 4.3MB/s eta 0:00:01\r\u001b[K     |███████████████████████▊        | 358kB 4.3MB/s eta 0:00:01\r\u001b[K     |████████████████████████▍       | 368kB 4.3MB/s eta 0:00:01\r\u001b[K     |█████████████████████████       | 378kB 4.3MB/s eta 0:00:01\r\u001b[K     |█████████████████████████▊      | 389kB 4.3MB/s eta 0:00:01\r\u001b[K     |██████████████████████████▍     | 399kB 4.3MB/s eta 0:00:01\r\u001b[K     |███████████████████████████     | 409kB 4.3MB/s eta 0:00:01\r\u001b[K     |███████████████████████████▊    | 419kB 4.3MB/s eta 0:00:01\r\u001b[K     |████████████████████████████▍   | 430kB 4.3MB/s eta 0:00:01\r\u001b[K     |█████████████████████████████   | 440kB 4.3MB/s eta 0:00:01\r\u001b[K     |█████████████████████████████▊  | 450kB 4.3MB/s eta 0:00:01\r\u001b[K     |██████████████████████████████▍ | 460kB 4.3MB/s eta 0:00:01\r\u001b[K     |███████████████████████████████ | 471kB 4.3MB/s eta 0:00:01\r\u001b[K     |███████████████████████████████▉| 481kB 4.3MB/s eta 0:00:01\r\u001b[K     |████████████████████████████████| 491kB 4.3MB/s \n",
            "\u001b[?25hBuilding wheels for collected packages: opencc-python-reimplemented\n",
            "  Building wheel for opencc-python-reimplemented (setup.py) ... \u001b[?25l\u001b[?25hdone\n",
            "  Created wheel for opencc-python-reimplemented: filename=opencc_python_reimplemented-0.1.6-py2.py3-none-any.whl size=486151 sha256=309a90d90ab961ad2f1ca4c038f6433572a271c207d20c1013ab6c1b0c566fb8\n",
            "  Stored in directory: /root/.cache/pip/wheels/54/8a/0f/405db0ba3f02d9af8211422d3ae94c47b3296256f168ac1e68\n",
            "Successfully built opencc-python-reimplemented\n",
            "Installing collected packages: opencc-python-reimplemented\n",
            "Successfully installed opencc-python-reimplemented-0.1.6\n"
          ],
          "name": "stdout"
        }
      ]
    },
    {
      "cell_type": "code",
      "metadata": {
        "id": "a3FedUOA_yVU"
      },
      "source": [
        "to_convert = '''不太确定你的浏览方式，我只能说已知的：WP有繁简转换机制，所有页面的源码都是一样的（繁简书写混集），然后匿名用户会根据浏览器的语言偏好设置挑选最接近的，如果是登陆用户的话，则可以自行到用户设置调整。如果什么都没有调整过（匿名没zh系的语言偏好设置，登陆的没改动过用户设置），默认是zh-cn（大陆简体）如果是匿名没登陆的话，有可能是浏览器语言偏好没设置对，是zh，对应的就是源码模式，没繁简转换处理的；或者你看的就是页面就是源码模式，地址如<zh.wp.org(省略)>/zh/<页面名>。以上适用于PC网页版；移动网页版确认，使用PC网页版同样的机制；移动客户端版是独立开发，对于多书写体系支持好像不太好，但暂时没发现类似问题。\n",
        "\n",
        "作者：陈肖恩\n",
        "著作权归作者所有。商业转载请联系作者获得授权，非商业转载请注明出处。'''"
      ],
      "execution_count": 9,
      "outputs": []
    },
    {
      "cell_type": "code",
      "metadata": {
        "colab": {
          "base_uri": "https://localhost:8080/",
          "height": 148
        },
        "id": "kE1xxD87-5l4",
        "outputId": "c7f4d9b4-deb0-4baf-c97d-abc1e9a1199b"
      },
      "source": [
        "from opencc import OpenCC\n",
        "cc = OpenCC('s2tw')  \n",
        "#to_convert = '开放中文转换'\n",
        "converted = cc.convert(to_convert)\n",
        "converted#執行轉換指令"
      ],
      "execution_count": 10,
      "outputs": [
        {
          "output_type": "execute_result",
          "data": {
            "application/vnd.google.colaboratory.intrinsic+json": {
              "type": "string"
            },
            "text/plain": [
              "'不太確定你的瀏覽方式，我只能說已知的：WP有繁簡轉換機制，所有頁面的源碼都是一樣的（繁簡書寫混集），然後匿名用戶會根據瀏覽器的語言偏好設置挑選最接近的，如果是登陸用戶的話，則可以自行到用戶設置調整。如果什麼都沒有調整過（匿名沒zh系的語言偏好設置，登陸的沒改動過用戶設置），默認是zh-cn（大陸簡體）如果是匿名沒登陸的話，有可能是瀏覽器語言偏好沒設置對，是zh，對應的就是源碼模式，沒繁簡轉換處理的；或者你看的就是頁面就是源碼模式，地址如<zh.wp.org(省略)>/zh/<頁面名>。以上適用於PC網頁版；移動網頁版確認，使用PC網頁版同樣的機制；移動客戶端版是獨立開發，對於多書寫體系支持好像不太好，但暫時沒發現類似問題。\\n\\n作者：陳肖恩\\n著作權歸作者所有。商業轉載請聯繫作者獲得授權，非商業轉載請註明出處。'"
            ]
          },
          "metadata": {
            "tags": []
          },
          "execution_count": 10
        }
      ]
    },
    {
      "cell_type": "code",
      "metadata": {
        "colab": {
          "base_uri": "https://localhost:8080/",
          "height": 51
        },
        "id": "x7FSah2GAMkU",
        "outputId": "2a37342d-7690-4d28-bd18-bff9a9230429"
      },
      "source": [
        "'''\n",
        "f = open\n",
        "f.read()\n",
        "f.close()\n",
        "此寫法萬一在read就出包，close就會沒跑到，這個檔案就會在系統檔案洩露，內存泄露，\n",
        "因開完沒有關閉、沒釋放掉，檔案會一直留在那邊，浪費我們的記憶體\n",
        "'''"
      ],
      "execution_count": 11,
      "outputs": [
        {
          "output_type": "execute_result",
          "data": {
            "application/vnd.google.colaboratory.intrinsic+json": {
              "type": "string"
            },
            "text/plain": [
              "'\\nf = open\\nf.read()\\nf.close()\\n此寫法萬一在read就出包，close就會沒跑到，這個檔案就會在系統檔案洩露，內存泄露，\\n因開完沒有關閉、沒釋放掉，檔案會一直留在那邊，浪費我們的記憶體\\n'"
            ]
          },
          "metadata": {
            "tags": []
          },
          "execution_count": 11
        }
      ]
    },
    {
      "cell_type": "code",
      "metadata": {
        "colab": {
          "base_uri": "https://localhost:8080/",
          "height": 132
        },
        "id": "5mhtXT9iBJ3P",
        "outputId": "43a81b46-6b8e-49ce-e93a-c6737f0183ff"
      },
      "source": [
        "#使用“with as\"語法，通常改成這種寫法開啟讀檔，此方法會保證無論如何都會關掉\n",
        "with open(\"./news.txt\",\"r\", encoding=\"utf-8\") as f: \n",
        "  content = f.read()#寫到這就不需要再打close\n",
        "content"
      ],
      "execution_count": 12,
      "outputs": [
        {
          "output_type": "execute_result",
          "data": {
            "application/vnd.google.colaboratory.intrinsic+json": {
              "type": "string"
            },
            "text/plain": [
              "'美國俄勒岡州一名女大生日前將iPhone送修，但手機內的私密照片和影片被兩名和碩員工洩漏，對此，美國蘋果公司已支付數百萬美元與該名女大生和解。\\n\\n英國每日電訊報報導，該名不具名的21歲女大生2016年將iPhone交給位在美國加州沙加緬度（Sacramento）據點的維修承包商和碩進行維修，兩名技師隨後將多張該女子的私密照和影片上傳到她的臉書帳號，藉此讓這些照片和影片看似由女學生自行上傳，最後是被朋友告知才知曉。\\n\\n女學生在事件發生後揚言以侵害隱私和帶來情緒困擾為由提起訴訟，最終蘋果支付「數百萬美元」與該女和解，並將兩名涉案員工開除。蘋果發言人說，「我們相當重視客戶資料的隱私和安全，也制定許多能確保資料在維修過程中能受到保護的相關協議」。\\n\\n當時雖已簽訂保密條款禁止進一步討論此事及和解金額，但因保險業者拒付和碩補償蘋果的和解金，保險公司與和碩又起糾紛，雙方的訴訟中才將此事曝光。'"
            ]
          },
          "metadata": {
            "tags": []
          },
          "execution_count": 12
        }
      ]
    },
    {
      "cell_type": "code",
      "metadata": {
        "colab": {
          "base_uri": "https://localhost:8080/"
        },
        "id": "Nn8-n31RG4S7",
        "outputId": "02d12bc7-2ac2-414b-eea3-bb11f200a5da"
      },
      "source": [
        "'''抓news裡面的關鍵詞'''\n",
        "import jieba.analyse\n",
        "# topK:None (此寫法為全部列出，從高排到低，不限制寫法) \n",
        "print(jieba.analyse.extract_tags(content))\n",
        "print(jieba.analyse.extract_tags(content, topK=5, allowPOS=[\"nr\"]))#[\"n\"]為找詞性是名詞，看官方文件得知詞性縮寫"
      ],
      "execution_count": 13,
      "outputs": [
        {
          "output_type": "stream",
          "text": [
            "['蘋果', '美國', '兩名', '和解', '大生', 'iPhone', '數百萬', '維修', '女學生', '隱私', '訴訟', '影片', '私密', '照片', '沙加', '此事', '送修', '支付', '拒付', '俄勒岡州']\n",
            "['和碩', '藉此']\n"
          ],
          "name": "stdout"
        }
      ]
    }
  ]
}