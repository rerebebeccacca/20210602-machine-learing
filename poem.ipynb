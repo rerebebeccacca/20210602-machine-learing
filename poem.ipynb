{
  "nbformat": 4,
  "nbformat_minor": 0,
  "metadata": {
    "colab": {
      "name": "poem.ipynb",
      "provenance": [],
      "include_colab_link": true
    },
    "kernelspec": {
      "name": "python3",
      "display_name": "Python 3"
    },
    "language_info": {
      "name": "python"
    }
  },
  "cells": [
    {
      "cell_type": "markdown",
      "metadata": {
        "id": "view-in-github",
        "colab_type": "text"
      },
      "source": [
        "<a href=\"https://colab.research.google.com/github/rerebebeccacca/20210602-machine-learing/blob/main/poem.ipynb\" target=\"_parent\"><img src=\"https://colab.research.google.com/assets/colab-badge.svg\" alt=\"Open In Colab\"/></a>"
      ]
    },
    {
      "cell_type": "code",
      "metadata": {
        "colab": {
          "base_uri": "https://localhost:8080/"
        },
        "id": "3WkjP78zxdO1",
        "outputId": "9682fa1c-49bd-4ae9-a1ee-968a098c3833"
      },
      "source": [
        "'''分類問題'''\n",
        "#到老師的github找出那兩個訓練資料\n",
        "from urllib.request import urlretrieve\n",
        "url = \"https://github.com/Elwing-Chou/ml0602/raw/main/poem_train.csv\"\n",
        "urlretrieve(url, \"train.csv\")\n",
        "url = \"https://github.com/Elwing-Chou/ml0602/raw/main/poem_test.csv\"\n",
        "urlretrieve(url, \"test.csv\")"
      ],
      "execution_count": 2,
      "outputs": [
        {
          "output_type": "execute_result",
          "data": {
            "text/plain": [
              "('test.csv', <http.client.HTTPMessage at 0x7f76a4586bd0>)"
            ]
          },
          "metadata": {
            "tags": []
          },
          "execution_count": 2
        }
      ]
    },
    {
      "cell_type": "code",
      "metadata": {
        "id": "P42_8m1syi0M"
      },
      "source": [
        "#引入pandas\n",
        "import pandas as pd\n",
        "train = pd.read_csv(\"train.csv\", encoding=\"utf-8\")\n",
        "test = pd.read_csv(\"test.csv\", encoding=\"utf-8\")"
      ],
      "execution_count": 4,
      "outputs": []
    },
    {
      "cell_type": "code",
      "metadata": {
        "id": "-3TCt9XCa_6o"
      },
      "source": [
        "# test#印出2731多首詩"
      ],
      "execution_count": null,
      "outputs": []
    },
    {
      "cell_type": "code",
      "metadata": {
        "id": "hKb0kgt6ytRW"
      },
      "source": [
        "# 分類: 輸出 0 1 2 3\n",
        "# series.replace(字典)\b\b#series是一維\n",
        "# {\"李白\":0, \"杜甫\":1, \"白居易\":2}\n",
        "# series.unique找出多少種類/series.value_counts找出每個詩人總共出現多少次\n",
        "u = train[\"作者\"].unique()\n",
        "\b\b#準備自己的字典\n",
        "'''寫法一：\n",
        "name2index = {}\n",
        "for i in range(len(u)):\n",
        "  name2index[u[i]] = i\n",
        "name2index\n",
        "'''\n",
        "\n",
        "'''寫法二：'''# enumerate是給一個tuple在那個東西的前面加上一個index\n",
        "#原始寫法\n",
        "'''\n",
        "name2index = {}\n",
        "for i,n in enumerate(u):\n",
        "    name2index[n] = i\n",
        "'''\n",
        "#簡化寫法二：\n",
        "name2index = {n:i for i, n in enumerate(u)}\n",
        "index2name = {i:n for i, n in enumerate(u)}\n",
        "print(name2index)\n",
        "print(index2name)\n",
        "y_train = train[\"作者\"].replace(name2index)#train的檔案裡作者名字改成index\n",
        "y_test = test[\"作者\"].replace(name2index)#test的檔案裡作者名字改成index\n",
        "y_test#印出"
      ],
      "execution_count": null,
      "outputs": []
    },
    {
      "cell_type": "code",
      "metadata": {
        "colab": {
          "base_uri": "https://localhost:8080/"
        },
        "id": "WgpnNxsnfntt",
        "outputId": "4aa2b895-1162-4907-dec0-b6fabd69bb10"
      },
      "source": [
        "# series.apply(func不加小括號)\n",
        "# !!我做過實驗了，詞語分類載入大辭典反而適得其反，但是普通時候你要載\n",
        "import jieba\n",
        "def poemcut(p):\n",
        "  return \" \".join(jieba.cut(p))\n",
        "x_train = train[\"內容\"].apply(poemcut)\n",
        "x_test = test[\"內容\"].apply(poemcut)\n",
        "x_test\n",
        "\n",
        "# series.apply(func不加小括號)\n",
        "# !!我做過實驗了, 詩詞分類載入大辭典反而適得其反, 但是普通時候你要載\n",
        "import jieba\n",
        "def poemcut(p):\n",
        "    return \" \".join(jieba.cut(p))\n",
        "x_train = train[\"內容\"].apply(poemcut)\n",
        "x_test = test[\"內容\"].apply(poemcut)\n",
        "x_test\n"
      ],
      "execution_count": null,
      "outputs": [
        {
          "output_type": "stream",
          "text": [
            "Building prefix dict from the default dictionary ...\n",
            "Dumping model to file cache /tmp/jieba.cache\n",
            "Loading model cost 1.071 seconds.\n",
            "Prefix dict has been built successfully.\n"
          ],
          "name": "stderr"
        },
        {
          "output_type": "execute_result",
          "data": {
            "text/plain": [
              "0      日照 香爐生 紫煙 ， 遙看 瀑布 掛 前川 。 飛流 直下 三千尺 ， 疑是 銀河 落九天 。\n",
              "1     朝辭 白帝 彩雲間 ， 千裡 江陵 一日 還 。 兩岸 猿聲 啼 不住 ， 輕舟 已過 萬 ...\n",
              "2      李白 乘舟 將欲行 ， 忽聞 岸上 踏歌 聲 。 桃花潭水 深 千尺 ， 不及 汪倫送 我情 。\n",
              "3       故人 西辭黃鶴樓 ， 煙花 三月 下揚州 。 孤帆 遠影 碧空 儘 ， 唯見長 江天 際流 。\n",
              "4                 危樓 高 百尺 ， 手可摘 星辰 。 不敢 高聲語 ， 恐驚 天上 人 。\n",
              "5                  床前 明月光 ， 疑是 地上 霜 。 舉頭 望明月 ， 低頭思 故鄉 。\n",
              "6     天門 中斷 楚江 開 ， 碧水 東流 至此 回 。 兩岸 青山 相對 出 ， 孤帆 一片 日...\n",
              "7               眾鳥 高 飛 儘 ， 孤雲獨 去 閒 。 相看 兩不厭 ， 隻 有 敬亭山 。\n",
              "8     鳳凰 台上 鳳凰遊 ， 鳳去 台空江 自流 。 吳宮 花草 埋 幽徑 ， 晉代 衣冠 成古丘...\n",
              "9     渡遠 荊門外 ， 來 從 楚國遊 。 山 隨 平野 儘 ， 江入 大荒 流 。 月 下 飛天...\n",
              "10    百川 日東流 ， 客去 亦 不息 。 我 生苦 漂 蕩 ， 何時 有 終極 。 讚 公 釋 ...\n",
              "11    細泉 兼 輕冰 ， 沮洳 棧道 濕 。 不辭 辛苦 行 ， 迫此 短景急 。 石門 雪雲隘 ...\n",
              "12    首路 栗亭 西 ， 尚想 鳳凰村 。 季冬 攜 童稚 ， 辛苦 赴 蜀門 。 南登 木皮 嶺...\n",
              "13    落日 在 簾 鉤 ， 溪邊 春事幽 。 芳菲 緣岸 圃 ， 樵 爨 倚灘 舟 。 啅 雀 爭...\n",
              "14    竇侍 禦 ， 驥 之子 ， 鳳之雛 。 年 未 三十 忠義俱 ， 骨鯁 絕代 無 。 炯 如...\n",
              "15    百草 競春華 ， 麗春應 最勝 。 少須 好 顏色 ， 多漫枝條 剩 。 紛紛 桃李 枝 ，...\n",
              "16    何年 顧虎頭 ， 滿壁畫 瀛州 。 赤 日 石林 氣 ， 青天 江海 流 。 錫飛常 近鶴 ...\n",
              "17    野寺 隱喬木 ， 山僧 高下 居 。 石門 日色異 ， 絳 氣橫 扶疏 。 窈窕 入風 磴 ...\n",
              "18    西川 有 杜鵑 ， 東川 無 杜鵑 。 涪萬 無 杜鵑 ， 雲安有 杜鵑 。 我 昔遊錦城 ...\n",
              "19    小奴 縛雞 向 市 賣 ， 雞 被縛 急 相 喧爭 。 家中 厭雞 食蟲 蟻 ， 不知 雞賣...\n",
              "20    管妙 弦 清歌 入 雲 ， 老人 合眼 醉醺醺 。 誠知 不及 當年 聽 ， 猶覺 聞時 勝...\n",
              "21    追歡 逐樂少 閒時 ， 補帖 平生 得事遲 。 何處 花開 曾後看 ？ 誰家 酒熟 不 先知...\n",
              "22    歲 陰生計 兩 蹉跎 ， 相顧 悠悠 醉且 歌 。 廚冷 難留 烏止 屋 ， 門閒 可 與 ...\n",
              "23    雨 砌 長 寒蕪 ， 風庭 落秋果 。 窗間 有 閒叟 ， 儘 日 看 書 坐 。 書中見 ...\n",
              "24    睡足 肢體 暢 ， 晨起 開 中堂 。 初旭泛 簾幕 ， 微風 拂 衣裳 。 二婢 扶 盥櫛...\n",
              "25    履道 西門 有 弊居 ， 池塘 竹樹繞 君廬 。 豪華肥壯 雖無分 ， 飽暖安閒 即 有 餘...\n",
              "26    昨日 複 今辰 ， 悠悠 七十 春 。 所經 多 故處 ， 卻 想 似 前身 。 散 秩優遊...\n",
              "27    不 與 老為期 ， 因何 兩鬢絲 ？ 才 應免 夭促 ， 便 已 及 衰 羸 。 昨夜 夢 ...\n",
              "28    暖床 斜 臥日 曛 腰 ， 一覺 閒眠 百病 銷 。 儘 日 一 飧 茶 兩 碗 ， 更無所...\n",
              "29    選石 鋪 新路 ， 安橋 壓古堤 。 似 從 銀漢下 ， 落傍玉 川西 。 影定 欄杆 倒 ...\n",
              "Name: 內容, dtype: object"
            ]
          },
          "metadata": {
            "tags": []
          },
          "execution_count": 6
        }
      ]
    },
    {
      "cell_type": "code",
      "metadata": {
        "id": "HX56sepsiXNr",
        "colab": {
          "base_uri": "https://localhost:8080/"
        },
        "outputId": "a8e5edd6-1967-4628-89fc-ebc0eaaa63c7"
      },
      "source": [
        "from sklearn.feature_extraction.text import CountVectorizer\n",
        "vec = CountVectorizer()\n",
        "vec.fit(x_train)#fit得知有幾個欄位\n",
        "len(vec.vocabulary_)\n"
      ],
      "execution_count": null,
      "outputs": [
        {
          "output_type": "execute_result",
          "data": {
            "text/plain": [
              "52294"
            ]
          },
          "metadata": {
            "tags": []
          },
          "execution_count": 7
        }
      ]
    },
    {
      "cell_type": "code",
      "metadata": {
        "id": "H38NPjndopSx",
        "colab": {
          "base_uri": "https://localhost:8080/"
        },
        "outputId": "f1ee82d9-d4f9-4774-9263-ee46802ec85b"
      },
      "source": [
        "#稀疏矩陣\n",
        "#如果是fit_tranform類型：測試資料就不用在fit，只做transform\n",
        "x_train_count = vec.transform(x_train)\n",
        "x_test_count = vec.transform(x_test)\n",
        "x_test_count = vec.transform(x_test)\n",
        "x_test_count"
      ],
      "execution_count": null,
      "outputs": [
        {
          "output_type": "execute_result",
          "data": {
            "text/plain": [
              "<30x52294 sparse matrix of type '<class 'numpy.int64'>'\n",
              "\twith 352 stored elements in Compressed Sparse Row format>"
            ]
          },
          "metadata": {
            "tags": []
          },
          "execution_count": 8
        }
      ]
    },
    {
      "cell_type": "code",
      "metadata": {
        "id": "giFpjsbnssyT"
      },
      "source": [
        "# 檢查標點符號,  \\r \\n 換行\n",
        "# vec.vocabulary_[\"。\"]\n",
        "# vec"
      ],
      "execution_count": null,
      "outputs": []
    },
    {
      "cell_type": "code",
      "metadata": {
        "id": "7lWX5TSjubny",
        "colab": {
          "base_uri": "https://localhost:8080/"
        },
        "outputId": "8139a048-953c-4669-d5d2-93abf86fdfa8"
      },
      "source": [
        "from sklearn.naive_bayes import MultinomialNB #多元貝氏\n",
        "clf = MultinomialNB()\n",
        "clf.fit(x_train_count, y_train)"
      ],
      "execution_count": null,
      "outputs": [
        {
          "output_type": "execute_result",
          "data": {
            "text/plain": [
              "MultinomialNB(alpha=1.0, class_prior=None, fit_prior=True)"
            ]
          },
          "metadata": {
            "tags": []
          },
          "execution_count": 10
        }
      ]
    },
    {
      "cell_type": "code",
      "metadata": {
        "id": "-o6Q7gtjuybr",
        "colab": {
          "base_uri": "https://localhost:8080/"
        },
        "outputId": "33b2ece1-75f4-49f6-9e54-306a26f8cd86"
      },
      "source": [
        "from sklearn.metrics import accuracy_score\n",
        "pre = clf.predict(x_test_count)\n",
        "accuracy_score(pre, y_test)"
      ],
      "execution_count": null,
      "outputs": [
        {
          "output_type": "execute_result",
          "data": {
            "text/plain": [
              "0.8"
            ]
          },
          "metadata": {
            "tags": []
          },
          "execution_count": 12
        }
      ]
    },
    {
      "cell_type": "code",
      "metadata": {
        "id": "mL7py6LBvZNH",
        "colab": {
          "base_uri": "https://localhost:8080/",
          "height": 133
        },
        "outputId": "170a20a1-7ec6-4ca6-c6a5-34da81aad129"
      },
      "source": [
        "#混淆矩陣\n",
        "from sklearn.metrics import confusion_matrix\n",
        "mat = confusion_matrix(y_test,pre)\n",
        "pd.DataFrame(mat,\n",
        "             columns=[\"{}(預測)\".format(n) for n in u],\n",
        "             index=[\"{}(正確)\".format(n) for n in u])"
      ],
      "execution_count": null,
      "outputs": [
        {
          "output_type": "execute_result",
          "data": {
            "text/html": [
              "<div>\n",
              "<style scoped>\n",
              "    .dataframe tbody tr th:only-of-type {\n",
              "        vertical-align: middle;\n",
              "    }\n",
              "\n",
              "    .dataframe tbody tr th {\n",
              "        vertical-align: top;\n",
              "    }\n",
              "\n",
              "    .dataframe thead th {\n",
              "        text-align: right;\n",
              "    }\n",
              "</style>\n",
              "<table border=\"1\" class=\"dataframe\">\n",
              "  <thead>\n",
              "    <tr style=\"text-align: right;\">\n",
              "      <th></th>\n",
              "      <th>李白(預測)</th>\n",
              "      <th>杜甫(預測)</th>\n",
              "      <th>白居易(預測)</th>\n",
              "    </tr>\n",
              "  </thead>\n",
              "  <tbody>\n",
              "    <tr>\n",
              "      <th>李白(正確)</th>\n",
              "      <td>8</td>\n",
              "      <td>1</td>\n",
              "      <td>1</td>\n",
              "    </tr>\n",
              "    <tr>\n",
              "      <th>杜甫(正確)</th>\n",
              "      <td>1</td>\n",
              "      <td>8</td>\n",
              "      <td>1</td>\n",
              "    </tr>\n",
              "    <tr>\n",
              "      <th>白居易(正確)</th>\n",
              "      <td>1</td>\n",
              "      <td>1</td>\n",
              "      <td>8</td>\n",
              "    </tr>\n",
              "  </tbody>\n",
              "</table>\n",
              "</div>"
            ],
            "text/plain": [
              "         李白(預測)  杜甫(預測)  白居易(預測)\n",
              "李白(正確)        8       1        1\n",
              "杜甫(正確)        1       8        1\n",
              "白居易(正確)       1       1        8"
            ]
          },
          "metadata": {
            "tags": []
          },
          "execution_count": 15
        }
      ]
    },
    {
      "cell_type": "code",
      "metadata": {
        "id": "FxmpBKuxwwHE",
        "colab": {
          "base_uri": "https://localhost:8080/"
        },
        "outputId": "d76d3c8a-e19f-4c5f-e6cc-59960edf4b8a"
      },
      "source": [
        "# a = 3\n",
        "# print(f\"{a}bcd\")#此方法比較方便\n",
        "# pattern = \"{}bcd{}\"#此方法較麻煩\n",
        "# print(pattern.format(2,3))\n",
        "# print(pattern.format(5,0))"
      ],
      "execution_count": null,
      "outputs": [
        {
          "output_type": "stream",
          "text": [
            "3bcd\n",
            "2bcd3\n",
            "5bcd0\n"
          ],
          "name": "stdout"
        }
      ]
    },
    {
      "cell_type": "code",
      "metadata": {
        "id": "P47tO2X6zmiI",
        "colab": {
          "base_uri": "https://localhost:8080/"
        },
        "outputId": "c2dff6b5-6612-417e-cb46-0c54ebe5439c"
      },
      "source": [
        "poem = input(\"輸入詩：\")\n",
        "poems = [poemcut(poem)]#用中括號因為把所有詩資料整批進去\n",
        "poems_count = vec.transform(poems)#整批轉換\n",
        "pre = clf.predict(poems_count)[0]#整批進去做預測\n",
        "print(\"答案是：\",index2name[pre])\n",
        "pre_proba = clf.predict_proba(poems_count)[0]#預測機率\n",
        "for name,proba in zip(u, pre_proba):\n",
        "    print(name,\"的機率\", proba)\n"
      ],
      "execution_count": null,
      "outputs": [
        {
          "output_type": "stream",
          "text": [
            "輸入詩：突然好想你 你會在哪裡\n",
            "答案是： 杜甫\n",
            "李白 的機率 0.35481508604906625\n",
            "杜甫 的機率 0.4236543390699377\n",
            "白居易 的機率 0.22153057488099598\n"
          ],
          "name": "stdout"
        }
      ]
    },
    {
      "cell_type": "code",
      "metadata": {
        "id": "oMvGSwBx1GIb",
        "colab": {
          "base_uri": "https://localhost:8080/"
        },
        "outputId": "a32098e2-0e8e-4e93-f31d-d9865a4f2b1a"
      },
      "source": [
        "'''zip 把資料合在一起'''\n",
        "# list(zip([1,2,3],\n",
        "        #  [4,5,6],\n",
        "        #  [7,8,9],\n",
        "        #   [10,11,12]))\n"
      ],
      "execution_count": null,
      "outputs": [
        {
          "output_type": "execute_result",
          "data": {
            "text/plain": [
              "[(1, 4, 7, 10), (2, 5, 8, 11), (3, 6, 9, 12)]"
            ]
          },
          "metadata": {
            "tags": []
          },
          "execution_count": 24
        }
      ]
    }
  ]
}