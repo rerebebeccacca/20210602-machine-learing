{
  "nbformat": 4,
  "nbformat_minor": 0,
  "metadata": {
    "colab": {
      "name": "poem.ipynb",
      "provenance": [],
      "include_colab_link": true
    },
    "kernelspec": {
      "name": "python3",
      "display_name": "Python 3"
    },
    "language_info": {
      "name": "python"
    }
  },
  "cells": [
    {
      "cell_type": "markdown",
      "metadata": {
        "id": "view-in-github",
        "colab_type": "text"
      },
      "source": [
        "<a href=\"https://colab.research.google.com/github/rerebebeccacca/20210602-machine-learing/blob/main/poem.ipynb\" target=\"_parent\"><img src=\"https://colab.research.google.com/assets/colab-badge.svg\" alt=\"Open In Colab\"/></a>"
      ]
    },
    {
      "cell_type": "code",
      "metadata": {
        "colab": {
          "base_uri": "https://localhost:8080/"
        },
        "id": "3WkjP78zxdO1",
        "outputId": "d7083a55-893d-47a5-cd74-6ce1c962fe04"
      },
      "source": [
        "from urllib.request import urlretrieve\n",
        "url = \"https://github.com/Elwing-Chou/ml0602/raw/main/poem_train.csv\"\n",
        "urlretrieve(url, \"train.csv\")\n",
        "url = \"https://github.com/Elwing-Chou/ml0602/raw/main/poem_test.csv\"\n",
        "urlretrieve(url, \"test.csv\")"
      ],
      "execution_count": 33,
      "outputs": [
        {
          "output_type": "execute_result",
          "data": {
            "text/plain": [
              "('test.csv', <http.client.HTTPMessage at 0x7fd736988a10>)"
            ]
          },
          "metadata": {
            "tags": []
          },
          "execution_count": 33
        }
      ]
    },
    {
      "cell_type": "code",
      "metadata": {
        "id": "P42_8m1syi0M"
      },
      "source": [
        "import pandas as pd\n",
        "train = pd.read_csv(\"train.csv\", encoding=\"utf-8\")\n",
        "test = pd.read_csv(\"test.csv\", encoding=\"utf-8\")"
      ],
      "execution_count": 34,
      "outputs": []
    },
    {
      "cell_type": "code",
      "metadata": {
        "colab": {
          "base_uri": "https://localhost:8080/"
        },
        "id": "hKb0kgt6ytRW",
        "outputId": "513255aa-ce27-48cd-c43f-f5b6515a61f8"
      },
      "source": [
        "# 分類: 輸出 0 1 2 3\n",
        "# series.replace(字典)\n",
        "# {\"李白\":0, \"杜甫\":1, \"白居易\":2}\n",
        "# series.unique/series.value_counts\n",
        "u = train[\"作者\"].unique()\n",
        "name2index = {n:i for i, n in enumerate(u)}\n",
        "index2name = {i:n for i, n in enumerate(u)}\n",
        "print(name2index)\n",
        "print(index2name)\n",
        "y_train = train[\"作者\"].replace(name2index)\n",
        "y_test = test[\"作者\"].replace(name2index)\n",
        "y_test"
      ],
      "execution_count": 35,
      "outputs": [
        {
          "output_type": "stream",
          "text": [
            "{'李白': 0, '杜甫': 1, '白居易': 2}\n",
            "{0: '李白', 1: '杜甫', 2: '白居易'}\n"
          ],
          "name": "stdout"
        },
        {
          "output_type": "execute_result",
          "data": {
            "text/plain": [
              "0     0\n",
              "1     0\n",
              "2     0\n",
              "3     0\n",
              "4     0\n",
              "5     0\n",
              "6     0\n",
              "7     0\n",
              "8     0\n",
              "9     0\n",
              "10    1\n",
              "11    1\n",
              "12    1\n",
              "13    1\n",
              "14    1\n",
              "15    1\n",
              "16    1\n",
              "17    1\n",
              "18    1\n",
              "19    1\n",
              "20    2\n",
              "21    2\n",
              "22    2\n",
              "23    2\n",
              "24    2\n",
              "25    2\n",
              "26    2\n",
              "27    2\n",
              "28    2\n",
              "29    2\n",
              "Name: 作者, dtype: int64"
            ]
          },
          "metadata": {
            "tags": []
          },
          "execution_count": 35
        }
      ]
    },
    {
      "cell_type": "code",
      "metadata": {
        "colab": {
          "base_uri": "https://localhost:8080/"
        },
        "id": "WgpnNxsnfntt",
        "outputId": "08625489-fb18-485f-d076-8c8e0990bc57"
      },
      "source": [
        "# series.apply(func不加小括號)\n",
        "# !!我做過實驗了，詞語分類載入大辭典反而適得其反，但是普通時候你要載\n",
        "import jieba\n",
        "def poemcut(p):\n",
        "  return \" \".join(jieba.cut(p))\n",
        "x_train = train[\"內容\"].apply(poemcut)\n",
        "x_test = test[\"內容\"].apply(poemcut)\n",
        "x_test\n",
        "\n",
        "# series.apply(func不加小括號)\n",
        "# !!我做過實驗了, 詩詞分類載入大辭典反而適得其反, 但是普通時候你要載\n",
        "import jieba\n",
        "def poemcut(p):\n",
        "    return \" \".join(jieba.cut(p))\n",
        "x_train = train[\"內容\"].apply(poemcut)\n",
        "x_test = test[\"內容\"].apply(poemcut)\n",
        "x_test\n"
      ],
      "execution_count": 36,
      "outputs": [
        {
          "output_type": "execute_result",
          "data": {
            "text/plain": [
              "0      日照 香爐生 紫煙 ， 遙看 瀑布 掛 前川 。 飛流 直下 三千尺 ， 疑是 銀河 落九天 。\n",
              "1     朝辭 白帝 彩雲間 ， 千裡 江陵 一日 還 。 兩岸 猿聲 啼 不住 ， 輕舟 已過 萬 ...\n",
              "2      李白 乘舟 將欲行 ， 忽聞 岸上 踏歌 聲 。 桃花潭水 深 千尺 ， 不及 汪倫送 我情 。\n",
              "3       故人 西辭黃鶴樓 ， 煙花 三月 下揚州 。 孤帆 遠影 碧空 儘 ， 唯見長 江天 際流 。\n",
              "4                 危樓 高 百尺 ， 手可摘 星辰 。 不敢 高聲語 ， 恐驚 天上 人 。\n",
              "5                  床前 明月光 ， 疑是 地上 霜 。 舉頭 望明月 ， 低頭思 故鄉 。\n",
              "6     天門 中斷 楚江 開 ， 碧水 東流 至此 回 。 兩岸 青山 相對 出 ， 孤帆 一片 日...\n",
              "7               眾鳥 高 飛 儘 ， 孤雲獨 去 閒 。 相看 兩不厭 ， 隻 有 敬亭山 。\n",
              "8     鳳凰 台上 鳳凰遊 ， 鳳去 台空江 自流 。 吳宮 花草 埋 幽徑 ， 晉代 衣冠 成古丘...\n",
              "9     渡遠 荊門外 ， 來 從 楚國遊 。 山 隨 平野 儘 ， 江入 大荒 流 。 月 下 飛天...\n",
              "10    百川 日東流 ， 客去 亦 不息 。 我 生苦 漂 蕩 ， 何時 有 終極 。 讚 公 釋 ...\n",
              "11    細泉 兼 輕冰 ， 沮洳 棧道 濕 。 不辭 辛苦 行 ， 迫此 短景急 。 石門 雪雲隘 ...\n",
              "12    首路 栗亭 西 ， 尚想 鳳凰村 。 季冬 攜 童稚 ， 辛苦 赴 蜀門 。 南登 木皮 嶺...\n",
              "13    落日 在 簾 鉤 ， 溪邊 春事幽 。 芳菲 緣岸 圃 ， 樵 爨 倚灘 舟 。 啅 雀 爭...\n",
              "14    竇侍 禦 ， 驥 之子 ， 鳳之雛 。 年 未 三十 忠義俱 ， 骨鯁 絕代 無 。 炯 如...\n",
              "15    百草 競春華 ， 麗春應 最勝 。 少須 好 顏色 ， 多漫枝條 剩 。 紛紛 桃李 枝 ，...\n",
              "16    何年 顧虎頭 ， 滿壁畫 瀛州 。 赤 日 石林 氣 ， 青天 江海 流 。 錫飛常 近鶴 ...\n",
              "17    野寺 隱喬木 ， 山僧 高下 居 。 石門 日色異 ， 絳 氣橫 扶疏 。 窈窕 入風 磴 ...\n",
              "18    西川 有 杜鵑 ， 東川 無 杜鵑 。 涪萬 無 杜鵑 ， 雲安有 杜鵑 。 我 昔遊錦城 ...\n",
              "19    小奴 縛雞 向 市 賣 ， 雞 被縛 急 相 喧爭 。 家中 厭雞 食蟲 蟻 ， 不知 雞賣...\n",
              "20    管妙 弦 清歌 入 雲 ， 老人 合眼 醉醺醺 。 誠知 不及 當年 聽 ， 猶覺 聞時 勝...\n",
              "21    追歡 逐樂少 閒時 ， 補帖 平生 得事遲 。 何處 花開 曾後看 ？ 誰家 酒熟 不 先知...\n",
              "22    歲 陰生計 兩 蹉跎 ， 相顧 悠悠 醉且 歌 。 廚冷 難留 烏止 屋 ， 門閒 可 與 ...\n",
              "23    雨 砌 長 寒蕪 ， 風庭 落秋果 。 窗間 有 閒叟 ， 儘 日 看 書 坐 。 書中見 ...\n",
              "24    睡足 肢體 暢 ， 晨起 開 中堂 。 初旭泛 簾幕 ， 微風 拂 衣裳 。 二婢 扶 盥櫛...\n",
              "25    履道 西門 有 弊居 ， 池塘 竹樹繞 君廬 。 豪華肥壯 雖無分 ， 飽暖安閒 即 有 餘...\n",
              "26    昨日 複 今辰 ， 悠悠 七十 春 。 所經 多 故處 ， 卻 想 似 前身 。 散 秩優遊...\n",
              "27    不 與 老為期 ， 因何 兩鬢絲 ？ 才 應免 夭促 ， 便 已 及 衰 羸 。 昨夜 夢 ...\n",
              "28    暖床 斜 臥日 曛 腰 ， 一覺 閒眠 百病 銷 。 儘 日 一 飧 茶 兩 碗 ， 更無所...\n",
              "29    選石 鋪 新路 ， 安橋 壓古堤 。 似 從 銀漢下 ， 落傍玉 川西 。 影定 欄杆 倒 ...\n",
              "Name: 內容, dtype: object"
            ]
          },
          "metadata": {
            "tags": []
          },
          "execution_count": 36
        }
      ]
    },
    {
      "cell_type": "code",
      "metadata": {
        "colab": {
          "base_uri": "https://localhost:8080/"
        },
        "id": "HX56sepsiXNr",
        "outputId": "771aba89-aee0-4322-e46e-ec0e9ff1753e"
      },
      "source": [
        "from sklearn.feature_extraction.text import CountVectorizer\n",
        "vec = CountVectorizer()\n",
        "vec.fit(x_train)#fit得知有幾個欄位\n",
        "len(vec.vocabulary_)\n"
      ],
      "execution_count": 37,
      "outputs": [
        {
          "output_type": "execute_result",
          "data": {
            "text/plain": [
              "52294"
            ]
          },
          "metadata": {
            "tags": []
          },
          "execution_count": 37
        }
      ]
    },
    {
      "cell_type": "code",
      "metadata": {
        "colab": {
          "base_uri": "https://localhost:8080/"
        },
        "id": "H38NPjndopSx",
        "outputId": "1d8e77ca-a0e8-411f-b0dc-05ad1e394e89"
      },
      "source": [
        "#稀疏矩陣\n",
        "#如果是fit_tranform類型：測試資料就不用在fit，只做transform\n",
        "x_train_count = vec.transform(x_train)\n",
        "x_test_count = vec.transform(x_test)\n",
        "x_test_count = vec.transform(x_test)\n",
        "x_test_count"
      ],
      "execution_count": 38,
      "outputs": [
        {
          "output_type": "execute_result",
          "data": {
            "text/plain": [
              "<30x52294 sparse matrix of type '<class 'numpy.int64'>'\n",
              "\twith 352 stored elements in Compressed Sparse Row format>"
            ]
          },
          "metadata": {
            "tags": []
          },
          "execution_count": 38
        }
      ]
    },
    {
      "cell_type": "code",
      "metadata": {
        "id": "giFpjsbnssyT"
      },
      "source": [
        "# 檢查標點符號,  \\r \\n 換行\n",
        "# vec.vocabulary_[\"。\"]\n",
        "# vec.vocabulary_[\"\\r\\n\"]"
      ],
      "execution_count": 39,
      "outputs": []
    },
    {
      "cell_type": "code",
      "metadata": {
        "colab": {
          "base_uri": "https://localhost:8080/"
        },
        "id": "7lWX5TSjubny",
        "outputId": "dd5e99fe-024b-401e-938d-20bf91a3c40d"
      },
      "source": [
        "from sklearn.naive_bayes import MultinomialNB #多元貝氏\n",
        "clf = MultinomialNB(alpha=0.01)#設保底值\n",
        "clf.fit(x_train_count, y_train)"
      ],
      "execution_count": 40,
      "outputs": [
        {
          "output_type": "execute_result",
          "data": {
            "text/plain": [
              "MultinomialNB(alpha=0.01, class_prior=None, fit_prior=True)"
            ]
          },
          "metadata": {
            "tags": []
          },
          "execution_count": 40
        }
      ]
    },
    {
      "cell_type": "code",
      "metadata": {
        "colab": {
          "base_uri": "https://localhost:8080/"
        },
        "id": "-o6Q7gtjuybr",
        "outputId": "cff186ab-ca58-4fd0-c907-d3e620625626"
      },
      "source": [
        "from sklearn.metrics import accuracy_score\n",
        "pre = clf.predict(x_test_count)\n",
        "accuracy_score(pre, y_test)"
      ],
      "execution_count": 41,
      "outputs": [
        {
          "output_type": "execute_result",
          "data": {
            "text/plain": [
              "0.8333333333333334"
            ]
          },
          "metadata": {
            "tags": []
          },
          "execution_count": 41
        }
      ]
    },
    {
      "cell_type": "code",
      "metadata": {
        "colab": {
          "base_uri": "https://localhost:8080/",
          "height": 133
        },
        "id": "mL7py6LBvZNH",
        "outputId": "ea0ce12d-4b3f-4dbb-a869-42ed36f44a95"
      },
      "source": [
        "#混淆矩陣\n",
        "from sklearn.metrics import confusion_matrix\n",
        "mat = confusion_matrix(y_test,pre)\n",
        "pd.DataFrame(mat,\n",
        "             columns=[\"{}(預測)\".format(n) for n in u],\n",
        "             index=[\"{}(正確)\".format(n) for n in u])"
      ],
      "execution_count": 42,
      "outputs": [
        {
          "output_type": "execute_result",
          "data": {
            "text/html": [
              "<div>\n",
              "<style scoped>\n",
              "    .dataframe tbody tr th:only-of-type {\n",
              "        vertical-align: middle;\n",
              "    }\n",
              "\n",
              "    .dataframe tbody tr th {\n",
              "        vertical-align: top;\n",
              "    }\n",
              "\n",
              "    .dataframe thead th {\n",
              "        text-align: right;\n",
              "    }\n",
              "</style>\n",
              "<table border=\"1\" class=\"dataframe\">\n",
              "  <thead>\n",
              "    <tr style=\"text-align: right;\">\n",
              "      <th></th>\n",
              "      <th>李白(預測)</th>\n",
              "      <th>杜甫(預測)</th>\n",
              "      <th>白居易(預測)</th>\n",
              "    </tr>\n",
              "  </thead>\n",
              "  <tbody>\n",
              "    <tr>\n",
              "      <th>李白(正確)</th>\n",
              "      <td>8</td>\n",
              "      <td>1</td>\n",
              "      <td>1</td>\n",
              "    </tr>\n",
              "    <tr>\n",
              "      <th>杜甫(正確)</th>\n",
              "      <td>0</td>\n",
              "      <td>9</td>\n",
              "      <td>1</td>\n",
              "    </tr>\n",
              "    <tr>\n",
              "      <th>白居易(正確)</th>\n",
              "      <td>1</td>\n",
              "      <td>1</td>\n",
              "      <td>8</td>\n",
              "    </tr>\n",
              "  </tbody>\n",
              "</table>\n",
              "</div>"
            ],
            "text/plain": [
              "         李白(預測)  杜甫(預測)  白居易(預測)\n",
              "李白(正確)        8       1        1\n",
              "杜甫(正確)        0       9        1\n",
              "白居易(正確)       1       1        8"
            ]
          },
          "metadata": {
            "tags": []
          },
          "execution_count": 42
        }
      ]
    },
    {
      "cell_type": "code",
      "metadata": {
        "id": "FxmpBKuxwwHE"
      },
      "source": [
        "# a = 3\n",
        "# print(f\"{a}bcd\")#此方法比較方便\n",
        "# pattern = \"{}bcd{}\"#此方法較麻煩\n",
        "# print(pattern.format(2,3))\n",
        "# print(pattern.format(5,0))"
      ],
      "execution_count": 43,
      "outputs": []
    },
    {
      "cell_type": "code",
      "metadata": {
        "colab": {
          "base_uri": "https://localhost:8080/"
        },
        "id": "P47tO2X6zmiI",
        "outputId": "5c0e2490-47e0-4006-eb30-8a9be03db7cd"
      },
      "source": [
        "poem = input(\"輸入詩：\")\n",
        "poems = [poemcut(poem)]#用中括號因為把所有詩資料整批進去\n",
        "poems_count = vec.transform(poems)#整批轉換\n",
        "pre = clf.predict(poems_count)[0]#整批進去做預測\n",
        "print(\"答案是：\",index2name[pre])\n",
        "pre_proba = clf.predict_proba(poems_count)[0]#預測機率\n",
        "for name,proba in zip(u, pre_proba):\n",
        "    print(name,\"的機率\", proba)\n"
      ],
      "execution_count": 47,
      "outputs": [
        {
          "output_type": "stream",
          "text": [
            "輸入詩：我把你寫在歌裡\n",
            "答案是： 杜甫\n",
            "李白 的機率 0.01128984868381416\n",
            "杜甫 的機率 0.9810320720139967\n",
            "白居易 的機率 0.007678079302189507\n"
          ],
          "name": "stdout"
        }
      ]
    },
    {
      "cell_type": "code",
      "metadata": {
        "colab": {
          "base_uri": "https://localhost:8080/",
          "height": 35
        },
        "id": "oMvGSwBx1GIb",
        "outputId": "b0409d54-f854-4c37-b940-43806acd3ff4"
      },
      "source": [
        "'''zip 把資料合在一起'''\n",
        "# list(zip([1,2,3],\n",
        "        #  [4,5,6],\n",
        "        #  [7,8,9],\n",
        "        #   [10,11,12]))\n"
      ],
      "execution_count": 45,
      "outputs": [
        {
          "output_type": "execute_result",
          "data": {
            "application/vnd.google.colaboratory.intrinsic+json": {
              "type": "string"
            },
            "text/plain": [
              "'zip 把資料合在一起'"
            ]
          },
          "metadata": {
            "tags": []
          },
          "execution_count": 45
        }
      ]
    }
  ]
}