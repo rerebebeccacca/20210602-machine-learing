{
  "nbformat": 4,
  "nbformat_minor": 0,
  "metadata": {
    "colab": {
      "name": "cifar10.ipynb",
      "provenance": [],
      "authorship_tag": "ABX9TyO7KFk2uI+mIGt7eb8ytRWW",
      "include_colab_link": true
    },
    "kernelspec": {
      "name": "python3",
      "display_name": "Python 3"
    },
    "language_info": {
      "name": "python"
    },
    "accelerator": "GPU"
  },
  "cells": [
    {
      "cell_type": "markdown",
      "metadata": {
        "id": "view-in-github",
        "colab_type": "text"
      },
      "source": [
        "<a href=\"https://colab.research.google.com/github/rerebebeccacca/20210602-machine-learing/blob/main/cifar10.ipynb\" target=\"_parent\"><img src=\"https://colab.research.google.com/assets/colab-badge.svg\" alt=\"Open In Colab\"/></a>"
      ]
    },
    {
      "cell_type": "code",
      "metadata": {
        "colab": {
          "base_uri": "https://localhost:8080/"
        },
        "id": "ZgQiNpF1_eU7",
        "outputId": "43381cf5-53b4-45a6-de41-7071d6d6094e"
      },
      "source": [
        "from tensorflow.keras.datasets.cifar10 import load_data\n",
        "(x_train, y_train), (x_test, y_test) = load_data()\n"
      ],
      "execution_count": 1,
      "outputs": [
        {
          "output_type": "stream",
          "text": [
            "Downloading data from https://www.cs.toronto.edu/~kriz/cifar-10-python.tar.gz\n",
            "170500096/170498071 [==============================] - 4s 0us/step\n"
          ],
          "name": "stdout"
        }
      ]
    },
    {
      "cell_type": "code",
      "metadata": {
        "colab": {
          "base_uri": "https://localhost:8080/"
        },
        "id": "tryIL4wQ_5rm",
        "outputId": "0ae2d617-f26e-42fb-e63d-3671752da232"
      },
      "source": [
        "print(x_train.shape)\n",
        "print(y_train.shape)\n",
        "print(x_test.shape)\n",
        "print(y_test.shape)"
      ],
      "execution_count": 2,
      "outputs": [
        {
          "output_type": "stream",
          "text": [
            "(50000, 32, 32, 3)\n",
            "(50000, 1)\n",
            "(10000, 32, 32, 3)\n",
            "(10000, 1)\n"
          ],
          "name": "stdout"
        }
      ]
    },
    {
      "cell_type": "code",
      "metadata": {
        "id": "CeqT9_9vBVwz"
      },
      "source": [
        "names = [\n",
        "          \"airplane\",\t\t\t\t\t\t\t\t\t\n",
        "          \"automobile\",\t\t\t\t\t\t\t\n",
        "          \"bird\",\t\t\t\t\n",
        "          \"cat\",\t\t\t\t\t\t\t\t\n",
        "          \"deer\",\t\t\t\t\t\t\t\t\t\n",
        "          \"dog\",\t\t\t\t\t\t\t\t\t\n",
        "          \"frog\",\t\t\t\t\t\t\t\t\t\t\n",
        "          \"horse\",\t\t\t\t\t\t\t\t\t\t\n",
        "          \"ship\",\t\t\t\t\t\t\t\t\t\n",
        "          \"truck\"\n",
        "]"
      ],
      "execution_count": 3,
      "outputs": []
    },
    {
      "cell_type": "code",
      "metadata": {
        "colab": {
          "base_uri": "https://localhost:8080/",
          "height": 301
        },
        "id": "rNaJvEH__8m9",
        "outputId": "70883901-6895-445c-8550-d2dbdf180666"
      },
      "source": [
        "# mnist：(60000, )[5,2,1,0]\n",
        "import matplotlib.pyplot as plt\n",
        "import random\n",
        "idx = random.randint(0,49999)\n",
        "print(y_train[idx][0])\n",
        "plt.imshow(x_train[idx])\n",
        "\n"
      ],
      "execution_count": 6,
      "outputs": [
        {
          "output_type": "stream",
          "text": [
            "7\n"
          ],
          "name": "stdout"
        },
        {
          "output_type": "execute_result",
          "data": {
            "text/plain": [
              "<matplotlib.image.AxesImage at 0x7f32936f4610>"
            ]
          },
          "metadata": {
            "tags": []
          },
          "execution_count": 6
        },
        {
          "output_type": "display_data",
          "data": {
            "image/png": "[encoded data removed]",
            "text/plain": [
              "<Figure size 432x288 with 1 Axes>"
            ]
          },
          "metadata": {
            "tags": [],
            "needs_background": "light"
          }
        }
      ]
    }
  ]
}