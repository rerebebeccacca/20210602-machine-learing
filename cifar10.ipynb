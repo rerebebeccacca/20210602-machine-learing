{
  "nbformat": 4,
  "nbformat_minor": 0,
  "metadata": {
    "colab": {
      "name": "cifar10.ipynb",
      "provenance": [],
      "authorship_tag": "ABX9TyNtphu9VQF1NGkYvP/x9288",
      "include_colab_link": true
    },
    "kernelspec": {
      "name": "python3",
      "display_name": "Python 3"
    },
    "language_info": {
      "name": "python"
    },
    "accelerator": "GPU"
  },
  "cells": [
    {
      "cell_type": "markdown",
      "metadata": {
        "id": "view-in-github",
        "colab_type": "text"
      },
      "source": [
        "<a href=\"https://colab.research.google.com/github/rerebebeccacca/20210602-machine-learing/blob/main/cifar10.ipynb\" target=\"_parent\"><img src=\"https://colab.research.google.com/assets/colab-badge.svg\" alt=\"Open In Colab\"/></a>"
      ]
    },
    {
      "cell_type": "code",
      "metadata": {
        "id": "ZgQiNpF1_eU7"
      },
      "source": [
        "from tensorflow.keras.datasets.cifar10 import load_data\n",
        "(x_train, y_train), (x_test, y_test) = load_data()\n"
      ],
      "execution_count": 30,
      "outputs": []
    },
    {
      "cell_type": "code",
      "metadata": {
        "colab": {
          "base_uri": "https://localhost:8080/"
        },
        "id": "tryIL4wQ_5rm",
        "outputId": "265e6b70-5ac4-4996-9938-b903d5e70395"
      },
      "source": [
        "print(x_train.shape)\n",
        "print(y_train.shape)\n",
        "print(x_test.shape)\n",
        "print(y_test.shape)"
      ],
      "execution_count": 31,
      "outputs": [
        {
          "output_type": "stream",
          "text": [
            "(50000, 32, 32, 3)\n",
            "(50000, 1)\n",
            "(10000, 32, 32, 3)\n",
            "(10000, 1)\n"
          ],
          "name": "stdout"
        }
      ]
    },
    {
      "cell_type": "code",
      "metadata": {
        "id": "CeqT9_9vBVwz"
      },
      "source": [
        "names = [\n",
        "          \"airplane\",\t\t\t\t\t\t\t\t\t\n",
        "          \"automobile\",\t\t\t\t\t\t\t\n",
        "          \"bird\",\t\t\t\t\n",
        "          \"cat\",\t\t\t\t\t\t\t\t\n",
        "          \"deer\",\t\t\t\t\t\t\t\t\t\n",
        "          \"dog\",\t\t\t\t\t\t\t\t\t\n",
        "          \"frog\",\t\t\t\t\t\t\t\t\t\t\n",
        "          \"horse\",\t\t\t\t\t\t\t\t\t\t\n",
        "          \"ship\",\t\t\t\t\t\t\t\t\t\n",
        "          \"truck\"\n",
        "]"
      ],
      "execution_count": 32,
      "outputs": []
    },
    {
      "cell_type": "code",
      "metadata": {
        "colab": {
          "base_uri": "https://localhost:8080/",
          "height": 301
        },
        "id": "rNaJvEH__8m9",
        "outputId": "d3781c5d-f30e-43cd-85ce-fd1d25f737cf"
      },
      "source": [
        "#上次mlp.ipynb的內容是： mnist數據集裡y_train：(60000, )[5,2,1,0]\n",
        "'''\n",
        "minist y_train 的shape是（60000，），cifar的y_train shape 是（50000，1）\n",
        "mnist (60000, ) ---> [5, 2, 1, 0, ......]\n",
        "cifao10 (50000, 1) ---> [[5], [2], [1], [0], ......]\n",
        "'''\n",
        "import matplotlib.pyplot as plt\n",
        "import random\n",
        "idx = random.randint(0,49999)\n",
        "print(y_train[idx][0])\n",
        "plt.imshow(x_train[idx])\n",
        "\n"
      ],
      "execution_count": 33,
      "outputs": [
        {
          "output_type": "stream",
          "text": [
            "9\n"
          ],
          "name": "stdout"
        },
        {
          "output_type": "execute_result",
          "data": {
            "text/plain": [
              "<matplotlib.image.AxesImage at 0x7fa60233fc10>"
            ]
          },
          "metadata": {
            "tags": []
          },
          "execution_count": 33
        },
        {
          "output_type": "display_data",
          "data": {
            "image/png": "[encoded data removed]",
            "text/plain": [
              "<Figure size 432x288 with 1 Axes>"
            ]
          },
          "metadata": {
            "tags": [],
            "needs_background": "light"
          }
        }
      ]
    },
    {
      "cell_type": "code",
      "metadata": {
        "colab": {
          "base_uri": "https://localhost:8080/"
        },
        "id": "b5iCOpj8cCCx",
        "outputId": "e71df533-afaf-4857-f6d4-cbbdf5ab309d"
      },
      "source": [
        "from tensorflow.keras.models import Sequential\n",
        "from tensorflow.keras.layers import Conv2D, MaxPooling2D #Convolution 2D\n",
        "from tensorflow.keras.layers import Dense, Flatten,Dropout#flatten平坦化（也就是攤開來3個數字相乘起來）\n",
        "layers = [\n",
        "          # 3 * 3 * 3(一個) ＊64 + 64(bias)=1792\n",
        "          Conv2D(64, 3, activation=\"relu\", padding=\"same\", input_shape=(32, 32, 3)),\n",
        "          MaxPooling2D(),\n",
        "          # 3 * 3 * 64(一個) ＊128 + 128(bias)=73856\n",
        "          Conv2D(128, 3, activation=\"relu\", padding=\"same\",),\n",
        "          MaxPooling2D(),\n",
        "          Conv2D(256, 3, activation=\"relu\", padding=\"same\",),\n",
        "          MaxPooling2D(),\n",
        "          Conv2D(512, 3, activation=\"relu\", padding=\"same\",),\n",
        "          MaxPooling2D(),\n",
        "          Flatten(),\n",
        "          Dense(32, activation=\"relu\"),\n",
        "          # 128 * 10 + 10(bias) = 1290\n",
        "          Dropout(0.25),#避免過度依賴某個神經元，所以加在dense之間（accuracy準確率不一定上升）\n",
        "          Dense(10, activation=\"softmax\")\n",
        "]\n",
        "model = Sequential(layers)\n",
        "model.summary()\n"
      ],
      "execution_count": 34,
      "outputs": [
        {
          "output_type": "stream",
          "text": [
            "Model: \"sequential_5\"\n",
            "_________________________________________________________________\n",
            "Layer (type)                 Output Shape              Param #   \n",
            "=================================================================\n",
            "conv2d_20 (Conv2D)           (None, 32, 32, 64)        1792      \n",
            "_________________________________________________________________\n",
            "max_pooling2d_20 (MaxPooling (None, 16, 16, 64)        0         \n",
            "_________________________________________________________________\n",
            "conv2d_21 (Conv2D)           (None, 16, 16, 128)       73856     \n",
            "_________________________________________________________________\n",
            "max_pooling2d_21 (MaxPooling (None, 8, 8, 128)         0         \n",
            "_________________________________________________________________\n",
            "conv2d_22 (Conv2D)           (None, 8, 8, 256)         295168    \n",
            "_________________________________________________________________\n",
            "max_pooling2d_22 (MaxPooling (None, 4, 4, 256)         0         \n",
            "_________________________________________________________________\n",
            "conv2d_23 (Conv2D)           (None, 4, 4, 512)         1180160   \n",
            "_________________________________________________________________\n",
            "max_pooling2d_23 (MaxPooling (None, 2, 2, 512)         0         \n",
            "_________________________________________________________________\n",
            "flatten_6 (Flatten)          (None, 2048)              0         \n",
            "_________________________________________________________________\n",
            "dense_11 (Dense)             (None, 32)                65568     \n",
            "_________________________________________________________________\n",
            "dropout_4 (Dropout)          (None, 32)                0         \n",
            "_________________________________________________________________\n",
            "dense_12 (Dense)             (None, 10)                330       \n",
            "=================================================================\n",
            "Total params: 1,616,874\n",
            "Trainable params: 1,616,874\n",
            "Non-trainable params: 0\n",
            "_________________________________________________________________\n"
          ],
          "name": "stdout"
        }
      ]
    },
    {
      "cell_type": "code",
      "metadata": {
        "colab": {
          "base_uri": "https://localhost:8080/",
          "height": 54
        },
        "id": "8yxlLnp6p2Ka",
        "outputId": "9fd5ea93-d198-44e2-a3d8-1bb1557ade3a"
      },
      "source": [
        "from tensorflow.keras.losses import SparseCategoricalCrossentropy#可節省ram的使用\n",
        "from tensorflow.keras.optimizers import Adam\n",
        "model.compile(loss=SparseCategoricalCrossentropy(),\n",
        "              optimizer=Adam(),\n",
        "              metrics=[\"accuracy\"])\n",
        "'''\n",
        "onehot做完\n",
        "3 -> [0,0,0,1,0,0,0,0....]\n",
        "而一般的categoricalcrossentropy做onehot會把整個列表存起來，但是中間不要的累贅0太多\n",
        "但是用sparsecategoricalcrossentropy 就只會存取那個1的檔案\n",
        "'''"
      ],
      "execution_count": 35,
      "outputs": [
        {
          "output_type": "execute_result",
          "data": {
            "application/vnd.google.colaboratory.intrinsic+json": {
              "type": "string"
            },
            "text/plain": [
              "'\\nonehot做完\\n3 -> [0,0,0,1,0,0,0,0....]\\n而一般的categoricalcrossentropy做onehot會把整個列表存起來，但是中間不要的累贅0太多\\n但是用sparsecategoricalcrossentropy 就只會存取那個1的檔案\\n'"
            ]
          },
          "metadata": {
            "tags": []
          },
          "execution_count": 35
        }
      ]
    },
    {
      "cell_type": "code",
      "metadata": {
        "id": "M31oFAZFpupd"
      },
      "source": [
        "x_train_norm = x_train / 255.0\n",
        "x_test_norm = x_test / 255.0"
      ],
      "execution_count": 36,
      "outputs": []
    },
    {
      "cell_type": "code",
      "metadata": {
        "colab": {
          "base_uri": "https://localhost:8080/"
        },
        "id": "xM4uj37Vt9_M",
        "outputId": "ccabc819-9062-459b-f966-cfa84f592298"
      },
      "source": [
        "from tensorflow.keras.callbacks import EarlyStopping, ModelCheckpoint\n",
        "# validation_split: 切出一些驗證資料來做驗證(0.1: 54000筆資料訓練)\n",
        "# epochs: 看幾輪(10輪: 54000 * 10)\n",
        "# batch_size: 看了多少筆再做一次梯度調整(看圖片大小, 圖片小(20*20):200, 圖片大(200*200):20)\n",
        "# 200batch, 10epoch: 54000 * 10 / 200 -> 2700(梯度調整)\n",
        "# verbose: 0(無聲) 1(最詳細) 2(沒有進度條)\n",
        "callbacks = [\n",
        "    EarlyStopping(patience=5, restore_best_weights=True),\n",
        "    ModelCheckpoint(\"cnn.h5\", save_best_only=True)\n",
        "]\n",
        "# h5: https://www.hdfgroup.org/downloads/hdfview/\n",
        "model.fit(x_train_norm,\n",
        "          y_train,\n",
        "          validation_split=0.1,\n",
        "          epochs=100,\n",
        "          batch_size=200,\n",
        "          verbose=2,\n",
        "          callbacks=callbacks)"
      ],
      "execution_count": 37,
      "outputs": [
        {
          "output_type": "stream",
          "text": [
            "Epoch 1/100\n",
            "225/225 - 5s - loss: 1.9694 - accuracy: 0.2640 - val_loss: 1.5005 - val_accuracy: 0.4468\n",
            "Epoch 2/100\n",
            "225/225 - 4s - loss: 1.5180 - accuracy: 0.4444 - val_loss: 1.2147 - val_accuracy: 0.5608\n",
            "Epoch 3/100\n",
            "225/225 - 4s - loss: 1.2939 - accuracy: 0.5265 - val_loss: 1.1025 - val_accuracy: 0.6108\n",
            "Epoch 4/100\n",
            "225/225 - 4s - loss: 1.1405 - accuracy: 0.5849 - val_loss: 0.9434 - val_accuracy: 0.6744\n",
            "Epoch 5/100\n",
            "225/225 - 4s - loss: 1.0188 - accuracy: 0.6316 - val_loss: 0.8598 - val_accuracy: 0.7060\n",
            "Epoch 6/100\n",
            "225/225 - 4s - loss: 0.9316 - accuracy: 0.6674 - val_loss: 0.8211 - val_accuracy: 0.7252\n",
            "Epoch 7/100\n",
            "225/225 - 4s - loss: 0.8388 - accuracy: 0.7022 - val_loss: 0.7827 - val_accuracy: 0.7452\n",
            "Epoch 8/100\n",
            "225/225 - 4s - loss: 0.7462 - accuracy: 0.7343 - val_loss: 0.7506 - val_accuracy: 0.7512\n",
            "Epoch 9/100\n",
            "225/225 - 4s - loss: 0.6631 - accuracy: 0.7627 - val_loss: 0.7496 - val_accuracy: 0.7568\n",
            "Epoch 10/100\n",
            "225/225 - 4s - loss: 0.5993 - accuracy: 0.7825 - val_loss: 0.7413 - val_accuracy: 0.7720\n",
            "Epoch 11/100\n",
            "225/225 - 4s - loss: 0.5388 - accuracy: 0.8042 - val_loss: 0.7647 - val_accuracy: 0.7708\n",
            "Epoch 12/100\n",
            "225/225 - 4s - loss: 0.4895 - accuracy: 0.8204 - val_loss: 0.7774 - val_accuracy: 0.7662\n",
            "Epoch 13/100\n",
            "225/225 - 4s - loss: 0.4413 - accuracy: 0.8398 - val_loss: 0.8546 - val_accuracy: 0.7636\n",
            "Epoch 14/100\n",
            "225/225 - 4s - loss: 0.3937 - accuracy: 0.8552 - val_loss: 0.8299 - val_accuracy: 0.7678\n",
            "Epoch 15/100\n",
            "225/225 - 4s - loss: 0.3547 - accuracy: 0.8680 - val_loss: 0.9459 - val_accuracy: 0.7596\n"
          ],
          "name": "stdout"
        },
        {
          "output_type": "execute_result",
          "data": {
            "text/plain": [
              "<tensorflow.python.keras.callbacks.History at 0x7fa6022cbd10>"
            ]
          },
          "metadata": {
            "tags": []
          },
          "execution_count": 37
        }
      ]
    },
    {
      "cell_type": "code",
      "metadata": {
        "colab": {
          "base_uri": "https://localhost:8080/"
        },
        "id": "mvu25QFNuG2N",
        "outputId": "20073afb-0dde-4a1b-e9a5-d7fefc759b77"
      },
      "source": [
        "model.evaluate(x_test_norm, y_test)"
      ],
      "execution_count": 38,
      "outputs": [
        {
          "output_type": "stream",
          "text": [
            "313/313 [==============================] - 1s 3ms/step - loss: 0.7741 - accuracy: 0.7559\n"
          ],
          "name": "stdout"
        },
        {
          "output_type": "execute_result",
          "data": {
            "text/plain": [
              "[0.7740715146064758, 0.7559000253677368]"
            ]
          },
          "metadata": {
            "tags": []
          },
          "execution_count": 38
        }
      ]
    },
    {
      "cell_type": "code",
      "metadata": {
        "colab": {
          "base_uri": "https://localhost:8080/",
          "height": 264
        },
        "id": "SjCB0Tvw5DXG",
        "outputId": "69d4352f-e702-409d-d53e-afd2517f831b"
      },
      "source": [
        "print(y_test.shape)#二維\n",
        "print(pre.shape)#一維\n",
        "# -1:叫他幫你算10000*1 = -1(?)，所以重新shape他\n",
        "y_test_r = y_test.reshape(-1)\n",
        "print(y_test_r.shape)"
      ],
      "execution_count": 39,
      "outputs": [
        {
          "output_type": "stream",
          "text": [
            "(10000, 1)\n"
          ],
          "name": "stdout"
        },
        {
          "output_type": "error",
          "ename": "NameError",
          "evalue": "ignored",
          "traceback": [
            "\u001b[0;31m---------------------------------------------------------------------------\u001b[0m",
            "\u001b[0;31mNameError\u001b[0m                                 Traceback (most recent call last)",
            "\u001b[0;32m<ipython-input-39-6a37d7f77e8e>\u001b[0m in \u001b[0;36m<module>\u001b[0;34m()\u001b[0m\n\u001b[1;32m      1\u001b[0m \u001b[0mprint\u001b[0m\u001b[0;34m(\u001b[0m\u001b[0my_test\u001b[0m\u001b[0;34m.\u001b[0m\u001b[0mshape\u001b[0m\u001b[0;34m)\u001b[0m\u001b[0;31m#二維\u001b[0m\u001b[0;34m\u001b[0m\u001b[0;34m\u001b[0m\u001b[0m\n\u001b[0;32m----> 2\u001b[0;31m \u001b[0mprint\u001b[0m\u001b[0;34m(\u001b[0m\u001b[0mpre\u001b[0m\u001b[0;34m.\u001b[0m\u001b[0mshape\u001b[0m\u001b[0;34m)\u001b[0m\u001b[0;31m#一維\u001b[0m\u001b[0;34m\u001b[0m\u001b[0;34m\u001b[0m\u001b[0m\n\u001b[0m\u001b[1;32m      3\u001b[0m \u001b[0;31m# -1:叫他幫你算10000*1 = -1(?)，所以重新shape他\u001b[0m\u001b[0;34m\u001b[0m\u001b[0;34m\u001b[0m\u001b[0;34m\u001b[0m\u001b[0m\n\u001b[1;32m      4\u001b[0m \u001b[0my_test_r\u001b[0m \u001b[0;34m=\u001b[0m \u001b[0my_test\u001b[0m\u001b[0;34m.\u001b[0m\u001b[0mreshape\u001b[0m\u001b[0;34m(\u001b[0m\u001b[0;34m-\u001b[0m\u001b[0;36m1\u001b[0m\u001b[0;34m)\u001b[0m\u001b[0;34m\u001b[0m\u001b[0;34m\u001b[0m\u001b[0m\n\u001b[1;32m      5\u001b[0m \u001b[0mprint\u001b[0m\u001b[0;34m(\u001b[0m\u001b[0my_test_r\u001b[0m\u001b[0;34m.\u001b[0m\u001b[0mshape\u001b[0m\u001b[0;34m)\u001b[0m\u001b[0;34m\u001b[0m\u001b[0;34m\u001b[0m\u001b[0m\n",
            "\u001b[0;31mNameError\u001b[0m: name 'pre' is not defined"
          ]
        }
      ]
    },
    {
      "cell_type": "code",
      "metadata": {
        "id": "BbfFom3Sx2lQ"
      },
      "source": [
        "import pandas as pd\n",
        "from sklearn.metrics import confusion_matrix\n",
        "# predict_proba -> predict\n",
        "# predict -> predict_classes\n",
        "# 只要在tensorflow: 就帶one-hot y_test_cat\n",
        "# 不在: 帶原本 y_test\n",
        "pre = model.predict_classes(x_test_norm)\n",
        "mat = confusion_matrix(y_test_r, pre)\n",
        "pd.DataFrame(mat, \n",
        "             columns=[\"{}(預測)\".format(names[i]) for i in range(10)],\n",
        "             index=[\"{}(正確)\".format(names[i]) for i in range(10)])"
      ],
      "execution_count": null,
      "outputs": []
    },
    {
      "cell_type": "code",
      "metadata": {
        "id": "rkjIsgwa5rg8"
      },
      "source": [
        "import numpy as np\n",
        "idx = np.nonzero(pre != y_test_r)[0]\n",
        "idx = idx[:200]\n",
        "# np.nonzero([[0, 2, 0], [0, 0, 3]])\n",
        "false_pre = pre[idx]\n",
        "false_label = y_test_r[idx] \n",
        "false_img = x_test[idx]\n",
        "\n",
        "plt.figure(figsize=(14, 42))\n",
        "width = 10\n",
        "height = len(idx) // width + 1\n",
        "for i in range(len(false_img)):\n",
        "    plt.subplot(height, width, i+1)\n",
        "    title = \"[P]:{}\\n[O]:{}\".format(names[false_pre[i]], names[false_label[i]])\n",
        "    plt.title(title)\n",
        "    plt.axis(\"off\")\n",
        "    plt.imshow(false_img[i])"
      ],
      "execution_count": null,
      "outputs": []
    }
  ]
}