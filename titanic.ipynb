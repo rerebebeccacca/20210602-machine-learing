{
  "nbformat": 4,
  "nbformat_minor": 0,
  "metadata": {
    "colab": {
      "name": "titanic.ipynb",
      "provenance": [],
      "authorship_tag": "ABX9TyNkRYW5VlPYglO16UmSKQ9C",
      "include_colab_link": true
    },
    "kernelspec": {
      "name": "python3",
      "display_name": "Python 3"
    },
    "language_info": {
      "name": "python"
    }
  },
  "cells": [
    {
      "cell_type": "markdown",
      "metadata": {
        "id": "view-in-github",
        "colab_type": "text"
      },
      "source": [
        "<a href=\"https://colab.research.google.com/github/rerebebeccacca/20210602-machine-learing/blob/main/titanic.ipynb\" target=\"_parent\"><img src=\"https://colab.research.google.com/assets/colab-badge.svg\" alt=\"Open In Colab\"/></a>"
      ]
    },
    {
      "cell_type": "code",
      "metadata": {
        "colab": {
          "base_uri": "https://localhost:8080/"
        },
        "id": "ETJHOAb5o0YB",
        "outputId": "1ffe790e-367e-4ebd-cd62-858047d97e9a"
      },
      "source": [
        "from  urllib.request import urlretrieve\n",
        "url = \"https://github.com/rerebebeccacca/20210602-machine-learing/raw/main/titanic/train.csv\"\n",
        "urlretrieve(url,\"train.csv\")\n",
        "url = \"https://github.com/rerebebeccacca/20210602-machine-learing/raw/main/titanic/test.csv\"\n",
        "urlretrieve(url,\"test.csv\")"
      ],
      "execution_count": 6,
      "outputs": [
        {
          "output_type": "execute_result",
          "data": {
            "text/plain": [
              "('test.csv', <http.client.HTTPMessage at 0x7f5417deb310>)"
            ]
          },
          "metadata": {
            "tags": []
          },
          "execution_count": 6
        }
      ]
    },
    {
      "cell_type": "code",
      "metadata": {
        "id": "ZM_D0mh-p1WB"
      },
      "source": [
        "import pandas as pd\n",
        "train_df = pd.read_csv(\"train.csv\",encoding=\"utf-8\")\n",
        "test_df = pd.read_csv(\"test.csv\",encoding=\"utf-8\")"
      ],
      "execution_count": 7,
      "outputs": []
    },
    {
      "cell_type": "code",
      "metadata": {
        "id": "5eqBQTcHqLmO"
      },
      "source": [
        "# test_df\n",
        "# train_df"
      ],
      "execution_count": 8,
      "outputs": []
    },
    {
      "cell_type": "code",
      "metadata": {
        "id": "SBeu4ve5Pv6T"
      },
      "source": [
        "#列編號重置\n",
        "data = pd.concat([train_df,test_df],ignore_index=True)\n",
        "data = data.drop([\"PassengerId\",\"Survived\"],axis=1)"
      ],
      "execution_count": 13,
      "outputs": []
    },
    {
      "cell_type": "code",
      "metadata": {
        "colab": {
          "base_uri": "https://localhost:8080/"
        },
        "id": "ag3NOfM3QwpB",
        "outputId": "ba2eb250-31fc-4744-d21a-b730d8d9e51b"
      },
      "source": [
        "na = data.isna().sum()\n",
        "#對Series做篩選\n",
        "#Series[帶入跟你的資俵比數一樣多True/False list]\n",
        "na[na > 0 ].sort_values(ascending=False )#sort_valusr排列"
      ],
      "execution_count": 16,
      "outputs": [
        {
          "output_type": "execute_result",
          "data": {
            "text/plain": [
              "Cabin       1014\n",
              "Age          263\n",
              "Embarked       2\n",
              "Fare           1\n",
              "dtype: int64"
            ]
          },
          "metadata": {
            "tags": []
          },
          "execution_count": 16
        }
      ]
    },
    {
      "cell_type": "code",
      "metadata": {
        "colab": {
          "base_uri": "https://localhost:8080/"
        },
        "id": "hRw_9EjGRove",
        "outputId": "374c0660-d448-486c-f657-09de988c32f3"
      },
      "source": [
        "'''#篩選操作練習\n",
        "s = pd.Series([1,2,3])\n",
        "s[[True,False,False]]#外面[]篩選，裡面是list\n",
        "'''"
      ],
      "execution_count": 19,
      "outputs": [
        {
          "output_type": "execute_result",
          "data": {
            "text/plain": [
              "0    1\n",
              "dtype: int64"
            ]
          },
          "metadata": {
            "tags": []
          },
          "execution_count": 19
        }
      ]
    },
    {
      "cell_type": "code",
      "metadata": {
        "colab": {
          "base_uri": "https://localhost:8080/"
        },
        "id": "OE-Ngbq6S4E9",
        "outputId": "6ef166fc-53d1-4af4-b974-6beff8f5989e"
      },
      "source": [
        "'''練習\n",
        "#lambda語法類似def\n",
        "s = pd.Series([1,2,3])\n",
        "# def func(n):\n",
        "#   return n*n\n",
        "s.apply(lambda n:n*n**3)#回傳值#功能跟def 一樣，但是用於幾行數值就能完成，遇到多數值就用def\n",
        "'''"
      ],
      "execution_count": 26,
      "outputs": [
        {
          "output_type": "execute_result",
          "data": {
            "text/plain": [
              "0     1\n",
              "1    16\n",
              "2    81\n",
              "dtype: int64"
            ]
          },
          "metadata": {
            "tags": []
          },
          "execution_count": 26
        }
      ]
    },
    {
      "cell_type": "code",
      "metadata": {
        "id": "4VoJ5b_LT1E0"
      },
      "source": [
        "#看cabin的資料\n",
        "def cabin_head(s):\n",
        "  if not pd.isna(s):#如果不是空值的話\n",
        "    return s[0]\n",
        "\n",
        "data[\"Cabin\"] = data[\"Cabin\"].apply(cabin_head)"
      ],
      "execution_count": 47,
      "outputs": []
    },
    {
      "cell_type": "code",
      "metadata": {
        "id": "TO6B5PdGVTkG"
      },
      "source": [
        "#看Ticket資料\n",
        "dic = data[\"Ticket\"].value_counts()\n",
        "# def ticket_count(t):\n",
        "#   return t[0]\n",
        "data[\"Ticket\"] = data[\"Ticket\"].apply(lambda t:dic[t])"
      ],
      "execution_count": 56,
      "outputs": []
    },
    {
      "cell_type": "code",
      "metadata": {
        "colab": {
          "base_uri": "https://localhost:8080/"
        },
        "id": "6EZCIc9nX7Q2",
        "outputId": "155e5b4c-3b32-4606-a9bf-a32a4a18641d"
      },
      "source": [
        "#補缺失值（類別：缺失值會是補該欄位中的眾數，也就是最常出現的）[!如果一堆測試資料，不要重算，直接補S]，測試資料跟訓練資料要補一樣的值\n",
        "most = data[\"Embarked\"].value_counts().idxmax()#找最大值的索引index\n",
        "data[\"Embarked\"] = data[\"Embarked\"].fillna(most)#fillna補空值\n",
        "# most #如果去掉idxmax，印出可以得知欄位中出現的數量\n",
        "na = data.isna().sum()\n",
        "#對Series做篩選\n",
        "#Series[帶入跟你的資俵比數一樣多True/False list]\n",
        "na[na > 0 ].sort_values(ascending=False )#sort_valusr排列"
      ],
      "execution_count": 61,
      "outputs": [
        {
          "output_type": "execute_result",
          "data": {
            "text/plain": [
              "Cabin    1014\n",
              "Age       263\n",
              "Fare        1\n",
              "dtype: int64"
            ]
          },
          "metadata": {
            "tags": []
          },
          "execution_count": 61
        }
      ]
    },
    {
      "cell_type": "code",
      "metadata": {
        "colab": {
          "base_uri": "https://localhost:8080/"
        },
        "id": "a9cQaMq5lh0K",
        "outputId": "2bc81271-bc66-4e8a-93a8-373195b8c25f"
      },
      "source": [
        "#補缺失職（數值：中位數）\n",
        "med = data.median().drop([\"Pclass\"])\n",
        "data = data.fillna(med)\n",
        "na = data.isna().sum()\n",
        "#對Series做篩選\n",
        "#Series[帶入跟你的資俵比數一樣多True/False list]\n",
        "na[na > 0 ].sort_values(ascending=False )#sort_valusr排列"
      ],
      "execution_count": 64,
      "outputs": [
        {
          "output_type": "execute_result",
          "data": {
            "text/plain": [
              "Cabin    1014\n",
              "dtype: int64"
            ]
          },
          "metadata": {
            "tags": []
          },
          "execution_count": 64
        }
      ]
    }
  ]
}