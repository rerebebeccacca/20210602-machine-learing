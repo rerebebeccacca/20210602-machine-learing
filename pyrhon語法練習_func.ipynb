{
  "nbformat": 4,
  "nbformat_minor": 0,
  "metadata": {
    "colab": {
      "name": "pyrhon語法練習-func.ipynb",
      "provenance": [],
      "authorship_tag": "ABX9TyNhdUgyyt/7Ezssg1Zf2ro2",
      "include_colab_link": true
    },
    "kernelspec": {
      "name": "python3",
      "display_name": "Python 3"
    },
    "language_info": {
      "name": "python"
    }
  },
  "cells": [
    {
      "cell_type": "markdown",
      "metadata": {
        "id": "view-in-github",
        "colab_type": "text"
      },
      "source": [
        "<a href=\"https://colab.research.google.com/github/rerebebeccacca/20210602-machine-learing/blob/main/pyrhon%E8%AA%9E%E6%B3%95%E7%B7%B4%E7%BF%92_func.ipynb\" target=\"_parent\"><img src=\"https://colab.research.google.com/assets/colab-badge.svg\" alt=\"Open In Colab\"/></a>"
      ]
    },
    {
      "cell_type": "code",
      "metadata": {
        "colab": {
          "base_uri": "https://localhost:8080/"
        },
        "id": "eFxfcIXgh06Q",
        "outputId": "b5f94022-c797-4042-e00a-b9c3e8df9ffc"
      },
      "source": [
        "int(4.5)#整數化\n",
        "'''\n",
        "python:所有東西皆為物件-->所有東西都有資料型態\n",
        "#沒有加小括號的時候地位就跟整數、字串、list、字典\n",
        "函式：int --> 步驟資料（SOP)（4.5):執行並且帶入參數\n",
        "#.   dic --> 字典資料      [key]:操作\n",
        "a + b :a.__add__(b)\n",
        "'''\n",
        "#舉例：沒加小括號叫刷牙步驟，加了之後叫做刷牙（執行）\n",
        "a = int #步驟資料\n",
        "a(5.6) #執行步驟\n",
        "def test():\n",
        "  return int\n",
        "test()(7.5)#前面步驟後面執行"
      ],
      "execution_count": 3,
      "outputs": [
        {
          "output_type": "execute_result",
          "data": {
            "text/plain": [
              "7"
            ]
          },
          "metadata": {
            "tags": []
          },
          "execution_count": 3
        }
      ]
    },
    {
      "cell_type": "code",
      "metadata": {
        "colab": {
          "base_uri": "https://localhost:8080/"
        },
        "id": "wsqKKKagkq_g",
        "outputId": "f91cc886-eb00-43f7-cef6-7e7f6c8b0c7d"
      },
      "source": [
        "\b#class物件導向\n",
        "class Person:\n",
        "  def __init__(self,h,w):\n",
        "    self.h = h\n",
        "    self.w = w\n",
        "b = Person\n",
        "p1 =b(175,75)\n",
        "p1.h"
      ],
      "execution_count": 7,
      "outputs": [
        {
          "output_type": "execute_result",
          "data": {
            "text/plain": [
              "175"
            ]
          },
          "metadata": {
            "tags": []
          },
          "execution_count": 7
        }
      ]
    },
    {
      "cell_type": "code",
      "metadata": {
        "colab": {
          "base_uri": "https://localhost:8080/"
        },
        "id": "XStGdI9Rlb13",
        "outputId": "282ed14b-fb4e-43bf-ad97-c0cc76e57db2"
      },
      "source": [
        "#type型態：\n",
        "import random\n",
        "print(type(random.randint))\n",
        "print(type(Person))\n",
        "print(type(p1))\n",
        "print(type(None))#None也是一種type"
      ],
      "execution_count": 11,
      "outputs": [
        {
          "output_type": "stream",
          "text": [
            "<class 'method'>\n",
            "<class 'type'>\n",
            "<class '__main__.Person'>\n",
            "<class 'NoneType'>\n"
          ],
          "name": "stdout"
        }
      ]
    }
  ]
}